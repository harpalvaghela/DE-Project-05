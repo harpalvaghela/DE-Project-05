{
 "cells": [
  {
   "cell_type": "code",
   "execution_count": 0,
   "metadata": {
    "application/vnd.databricks.v1+cell": {
     "cellMetadata": {
      "byteLimit": 2048000,
      "rowLimit": 10000
     },
     "inputWidgets": {},
     "nuid": "77a42b85-6270-4061-b26b-fd86a925c390",
     "showTitle": false,
     "tableResultSettingsMap": {},
     "title": ""
    }
   },
   "outputs": [
    {
     "output_type": "display_data",
     "data": {
      "text/html": [
       "<style scoped>\n",
       "  .table-result-container {\n",
       "    max-height: 300px;\n",
       "    overflow: auto;\n",
       "  }\n",
       "  table, th, td {\n",
       "    border: 1px solid black;\n",
       "    border-collapse: collapse;\n",
       "  }\n",
       "  th, td {\n",
       "    padding: 5px;\n",
       "  }\n",
       "  th {\n",
       "    text-align: left;\n",
       "  }\n",
       "</style><div class='table-result-container'><table class='table-result'><thead style='background-color: white'><tr><th>customer_id</th><th>first_name</th><th>last_name</th><th>address</th><th>city</th><th>state</th><th>zip</th></tr></thead><tbody><tr><td>1</td><td>John</td><td>Doe</td><td>123 Elm St</td><td>Toronto</td><td>ON</td><td>M4B1B3</td></tr><tr><td>2</td><td>Jane</td><td>Smith</td><td>456 Maple Ave</td><td>Ottawa</td><td>ON</td><td>K1A0B1</td></tr><tr><td>3</td><td>Michael</td><td>Johnson</td><td>789 Oak Dr</td><td>Montreal</td><td>QC</td><td>H1A1A1</td></tr><tr><td>4</td><td>Emily</td><td>Davis</td><td>101 Pine Rd</td><td>Calgary</td><td>AB</td><td>T2A0A1</td></tr><tr><td>5</td><td>David</td><td>Wilson</td><td>202 Birch Blvd</td><td>Vancouver</td><td>BC</td><td>V5K0A1</td></tr><tr><td>6</td><td>Emma</td><td>Clark</td><td>505 Cedar St</td><td>Halifax</td><td>NS</td><td>B3H0A1</td></tr><tr><td>7</td><td>James</td><td>Martinez</td><td>606 Spruce Ln</td><td>Winnipeg</td><td>MB</td><td>R3C0A1</td></tr><tr><td>8</td><td>Olivia</td><td>Garcia</td><td>707 Fir St</td><td>Edmonton</td><td>AB</td><td>T5A0A1</td></tr><tr><td>9</td><td>William</td><td>Lopez</td><td>808 Redwood Dr</td><td>Victoria</td><td>BC</td><td>V8W0A1</td></tr><tr><td>10</td><td>Ava</td><td>Anderson</td><td>909 Cypress Ave</td><td>Quebec City</td><td>QC</td><td>G1A0A1</td></tr><tr><td>11</td><td>Alexander</td><td>Thomas</td><td>1010 Willow Rd</td><td>St. John's</td><td>NL</td><td>A1A0A1</td></tr><tr><td>12</td><td>Isabella</td><td>Lee</td><td>1111 Poplar St</td><td>Fredericton</td><td>NB</td><td>E3B0A1</td></tr><tr><td>13</td><td>Daniel</td><td>Harris</td><td>1212 Ash Blvd</td><td>Charlottetown</td><td>PE</td><td>C1A0A1</td></tr><tr><td>14</td><td>Sophia</td><td>Young</td><td>1313 Beech Dr</td><td>Yellowknife</td><td>NT</td><td>X1A0A1</td></tr><tr><td>15</td><td>Matthew</td><td>King</td><td>1414 Cedar Ln</td><td>Whitehorse</td><td>YT</td><td>Y1A0A1</td></tr><tr><td>16</td><td>Charlotte</td><td>Scott</td><td>1515 Elm St</td><td>Iqaluit</td><td>NU</td><td>X0A0A1</td></tr><tr><td>17</td><td>Joseph</td><td>Green</td><td>1616 Maple Ave</td><td>Regina</td><td>SK</td><td>S4P0A1</td></tr><tr><td>18</td><td>Amelia</td><td>Adams</td><td>1717 Oak Dr</td><td>Saskatoon</td><td>SK</td><td>S7K0A1</td></tr><tr><td>19</td><td>Christopher</td><td>Baker</td><td>1818 Pine Rd</td><td>Thunder Bay</td><td>ON</td><td>P7A0A1</td></tr><tr><td>20</td><td>Mia</td><td>Nelson</td><td>1919 Birch Blvd</td><td>London</td><td>ON</td><td>N6A0A1</td></tr><tr><td>21</td><td>Andrew</td><td>Mitchell</td><td>2020 Spruce Ln</td><td>Hamilton</td><td>ON</td><td>L8P0A1</td></tr><tr><td>22</td><td>Harper</td><td>Roberts</td><td>2121 Fir St</td><td>Kitchener</td><td>ON</td><td>N2G0A1</td></tr><tr><td>23</td><td>Joshua</td><td>Turner</td><td>2222 Redwood Dr</td><td>Windsor</td><td>ON</td><td>N9A0A1</td></tr><tr><td>24</td><td>Evelyn</td><td>Phillips</td><td>2323 Cypress Ave</td><td>Kingston</td><td>ON</td><td>K7L0A1</td></tr><tr><td>25</td><td>Daniel</td><td>Campbell</td><td>2424 Willow Rd</td><td>St. Catharines</td><td>ON</td><td>L2R0A1</td></tr><tr><td>26</td><td>Abigail</td><td>Parker</td><td>2525 Poplar St</td><td>Barrie</td><td>ON</td><td>L4M0A1</td></tr><tr><td>27</td><td>James</td><td>Evans</td><td>2626 Ash Blvd</td><td>Guelph</td><td>ON</td><td>N1H0A1</td></tr><tr><td>28</td><td>Emily</td><td>Edwards</td><td>2727 Beech Dr</td><td>Brantford</td><td>ON</td><td>N3T0A1</td></tr><tr><td>29</td><td>Michael</td><td>Collins</td><td>2828 Cedar Ln</td><td>Thunder Bay</td><td>ON</td><td>P7B0A1</td></tr><tr><td>30</td><td>Elizabeth</td><td>Stewart</td><td>2929 Elm St</td><td>Peterborough</td><td>ON</td><td>K9H0A1</td></tr><tr><td>31</td><td>David</td><td>Sanchez</td><td>3030 Maple Ave</td><td>North Bay</td><td>ON</td><td>P1B0A1</td></tr><tr><td>32</td><td>Sophia</td><td>Morris</td><td>3131 Oak Dr</td><td>Belleville</td><td>ON</td><td>K8N0A1</td></tr><tr><td>33</td><td>John</td><td>Rogers</td><td>3232 Pine Rd</td><td>Timmins</td><td>ON</td><td>P4N0A1</td></tr><tr><td>34</td><td>Olivia</td><td>Reed</td><td>3333 Birch Blvd</td><td>Orillia</td><td>ON</td><td>L3V0A1</td></tr><tr><td>35</td><td>William</td><td>Cook</td><td>3434 Spruce Ln</td><td>Midland</td><td>ON</td><td>L4R0A1</td></tr><tr><td>36</td><td>Ava</td><td>Morgan</td><td>3535 Fir St</td><td>Collingwood</td><td>ON</td><td>L9Y0A1</td></tr><tr><td>37</td><td>Alexander</td><td>Bell</td><td>3636 Redwood Dr</td><td>Stratford</td><td>ON</td><td>N5A0A1</td></tr><tr><td>38</td><td>Isabella</td><td>Murphy</td><td>3737 Cypress Ave</td><td>Woodstock</td><td>ON</td><td>N4S0A1</td></tr><tr><td>39</td><td>Daniel</td><td>Bailey</td><td>3838 Willow Rd</td><td>Orangeville</td><td>ON</td><td>L9W0A1</td></tr><tr><td>40</td><td>Sophia</td><td>Rivera</td><td>3939 Poplar St</td><td>Milton</td><td>ON</td><td>L9T0A1</td></tr><tr><td>41</td><td>Matthew</td><td>Cooper</td><td>4040 Ash Blvd</td><td>Georgetown</td><td>ON</td><td>L7G0A1</td></tr><tr><td>42</td><td>Charlotte</td><td>Richardson</td><td>4141 Beech Dr</td><td>Newmarket</td><td>ON</td><td>L3Y0A1</td></tr><tr><td>43</td><td>Joseph</td><td>Cox</td><td>4242 Cedar Ln</td><td>Aurora</td><td>ON</td><td>L4G0A1</td></tr><tr><td>44</td><td>Amelia</td><td>Howard</td><td>4343 Elm St</td><td>Bradford</td><td>ON</td><td>L3Z0A1</td></tr><tr><td>45</td><td>Christopher</td><td>Ward</td><td>4444 Maple Ave</td><td>Keswick</td><td>ON</td><td>L4P0A1</td></tr><tr><td>46</td><td>Mia</td><td>Brooks</td><td>4545 Oak Dr</td><td>Stouffville</td><td>ON</td><td>L4A0A1</td></tr><tr><td>47</td><td>Andrew</td><td>Gray</td><td>4646 Pine Rd</td><td>Uxbridge</td><td>ON</td><td>L9P0A1</td></tr><tr><td>48</td><td>Harper</td><td>James</td><td>4747 Birch Blvd</td><td>Port Perry</td><td>ON</td><td>L9L0A1</td></tr><tr><td>49</td><td>Joshua</td><td>Bennett</td><td>4848 Spruce Ln</td><td>Beaverton</td><td>ON</td><td>L0K0A1</td></tr><tr><td>50</td><td>Evelyn</td><td>Barnes</td><td>4949 Fir St</td><td>Sutton</td><td>ON</td><td>L0E0A1</td></tr><tr><td>51</td><td>Daniel</td><td>Ross</td><td>5050 Redwood Dr</td><td>Pefferlaw</td><td>ON</td><td>L0E0A1</td></tr><tr><td>52</td><td>Abigail</td><td>Henderson</td><td>5151 Cypress Ave</td><td>Mount Albert</td><td>ON</td><td>L0G0A1</td></tr><tr><td>53</td><td>James</td><td>Jenkins</td><td>5252 Willow Rd</td><td>Queensville</td><td>ON</td><td>L0G0A1</td></tr><tr><td>54</td><td>Emily</td><td>Perry</td><td>5353 Poplar St</td><td>Sharon</td><td>ON</td><td>L0G0A1</td></tr><tr><td>55</td><td>Michael</td><td>Butler</td><td>5454 Ash Blvd</td><td>Holland Landing</td><td>ON</td><td>L9N0A1</td></tr><tr><td>56</td><td>Elizabeth</td><td>Long</td><td>5555 Beech Dr</td><td>East Gwillimbury</td><td>ON</td><td>L9N0A1</td></tr><tr><td>57</td><td>David</td><td>Patterson</td><td>5656 Cedar Ln</td><td>King City</td><td>ON</td><td>L7B0A1</td></tr><tr><td>58</td><td>Sophia</td><td>Hughes</td><td>5757 Elm St</td><td>Nobleton</td><td>ON</td><td>L0G0A1</td></tr><tr><td>59</td><td>John</td><td>Flores</td><td>5858 Maple Ave</td><td>Schomberg</td><td>ON</td><td>L0G0A1</td></tr><tr><td>60</td><td>Olivia</td><td>Washington</td><td>5959 Oak Dr</td><td>Tottenham</td><td>ON</td><td>L0G0A1</td></tr><tr><td>61</td><td>William</td><td>Butler</td><td>6060 Pine Rd</td><td>Alliston</td><td>ON</td><td>L9R0A1</td></tr><tr><td>62</td><td>Ava</td><td>Simmons</td><td>6161 Birch Blvd</td><td>Angus</td><td>ON</td><td>L0M0A1</td></tr><tr><td>63</td><td>Alexander</td><td>Foster</td><td>6262 Spruce Ln</td><td>Stayner</td><td>ON</td><td>L0M0A1</td></tr><tr><td>64</td><td>Isabella</td><td>Gonzalez</td><td>6363 Fir St</td><td>Wasaga Beach</td><td>ON</td><td>L9Z0A1</td></tr><tr><td>65</td><td>Daniel</td><td>Bryant</td><td>6464 Redwood Dr</td><td>Elmvale</td><td>ON</td><td>L0L0A1</td></tr><tr><td>66</td><td>Sophia</td><td>Alexander</td><td>6565 Cypress Ave</td><td>Midland</td><td>ON</td><td>L4R0A1</td></tr><tr><td>67</td><td>Matthew</td><td>Russell</td><td>6666 Willow Rd</td><td>Penetanguishene</td><td>ON</td><td>L9M0A1</td></tr><tr><td>68</td><td>Charlotte</td><td>Griffin</td><td>6767 Poplar St</td><td>Victoria Harbour</td><td>ON</td><td>L0K0A1</td></tr><tr><td>69</td><td>Joseph</td><td>Diaz</td><td>6868 Ash Blvd</td><td>Port McNicoll</td><td>ON</td><td>L0K0A1</td></tr><tr><td>70</td><td>Amelia</td><td>Hayes</td><td>6969 Beech Dr</td><td>Waubaushene</td><td>ON</td><td>L0K0A1</td></tr><tr><td>71</td><td>Christopher</td><td>Myers</td><td>7070 Cedar Ln</td><td>Coldwater</td><td>ON</td><td>L0K0A1</td></tr><tr><td>72</td><td>Mia</td><td>Ford</td><td>7171 Elm St</td><td>Orillia</td><td>ON</td><td>L3V0A1</td></tr><tr><td>73</td><td>Andrew</td><td>Hamilton</td><td>7272 Maple Ave</td><td>Gravenhurst</td><td>ON</td><td>P1P0A1</td></tr><tr><td>74</td><td>Harper</td><td>Graham</td><td>7373 Oak Dr</td><td>Bala</td><td>ON</td><td>P0C0A1</td></tr><tr><td>75</td><td>Joshua</td><td>Sullivan</td><td>7474 Pine Rd</td><td>Bracebridge</td><td>ON</td><td>P1L0A1</td></tr><tr><td>76</td><td>Evelyn</td><td>Wallace</td><td>7575 Birch Blvd</td><td>Huntsville</td><td>ON</td><td>P1H0A1</td></tr><tr><td>77</td><td>Daniel</td><td>Woods</td><td>7676 Spruce Ln</td><td>Burks Falls</td><td>ON</td><td>P0A0A1</td></tr><tr><td>78</td><td>Abigail</td><td>Cole</td><td>7777 Fir St</td><td>Sundridge</td><td>ON</td><td>P0A0A1</td></tr><tr><td>79</td><td>James</td><td>West</td><td>7878 Redwood Dr</td><td>South River</td><td>ON</td><td>P0A0A1</td></tr><tr><td>80</td><td>Emily</td><td>Jordan</td><td>7979 Cypress Ave</td><td>North Bay</td><td>ON</td><td>P1B0A1</td></tr><tr><td>81</td><td>Michael</td><td>Owens</td><td>8080 Willow Rd</td><td>Mattawa</td><td>ON</td><td>P0H0A1</td></tr><tr><td>82</td><td>Elizabeth</td><td>Reynolds</td><td>8181 Poplar St</td><td>Sturgeon Falls</td><td>ON</td><td>P2B0A1</td></tr><tr><td>83</td><td>David</td><td>Fisher</td><td>8282 Ash Blvd</td><td>Verner</td><td>ON</td><td>P0H0A1</td></tr><tr><td>84</td><td>Sophia</td><td>Ellis</td><td>8383 Beech Dr</td><td>Field</td><td>ON</td><td>P0H0A1</td></tr><tr><td>85</td><td>John</td><td>Harrison</td><td>8484 Cedar Ln</td><td>Temagami</td><td>ON</td><td>P0H0A1</td></tr><tr><td>86</td><td>Olivia</td><td>Gibson</td><td>8585 Elm St</td><td>New Liskeard</td><td>ON</td><td>P0J0A1</td></tr><tr><td>87</td><td>William</td><td>McDonald</td><td>8686 Maple Ave</td><td>Haileybury</td><td>null</td><td>null</td></tr></tbody></table></div>"
      ]
     },
     "metadata": {
      "application/vnd.databricks.v1+output": {
       "addedWidgets": {},
       "aggData": [],
       "aggError": "",
       "aggOverflow": false,
       "aggSchema": [],
       "aggSeriesLimitReached": false,
       "aggType": "",
       "arguments": {},
       "columnCustomDisplayInfos": {},
       "data": [
        [
         "1",
         "John",
         "Doe",
         "123 Elm St",
         "Toronto",
         "ON",
         "M4B1B3"
        ],
        [
         "2",
         "Jane",
         "Smith",
         "456 Maple Ave",
         "Ottawa",
         "ON",
         "K1A0B1"
        ],
        [
         "3",
         "Michael",
         "Johnson",
         "789 Oak Dr",
         "Montreal",
         "QC",
         "H1A1A1"
        ],
        [
         "4",
         "Emily",
         "Davis",
         "101 Pine Rd",
         "Calgary",
         "AB",
         "T2A0A1"
        ],
        [
         "5",
         "David",
         "Wilson",
         "202 Birch Blvd",
         "Vancouver",
         "BC",
         "V5K0A1"
        ],
        [
         "6",
         "Emma",
         "Clark",
         "505 Cedar St",
         "Halifax",
         "NS",
         "B3H0A1"
        ],
        [
         "7",
         "James",
         "Martinez",
         "606 Spruce Ln",
         "Winnipeg",
         "MB",
         "R3C0A1"
        ],
        [
         "8",
         "Olivia",
         "Garcia",
         "707 Fir St",
         "Edmonton",
         "AB",
         "T5A0A1"
        ],
        [
         "9",
         "William",
         "Lopez",
         "808 Redwood Dr",
         "Victoria",
         "BC",
         "V8W0A1"
        ],
        [
         "10",
         "Ava",
         "Anderson",
         "909 Cypress Ave",
         "Quebec City",
         "QC",
         "G1A0A1"
        ],
        [
         "11",
         "Alexander",
         "Thomas",
         "1010 Willow Rd",
         "St. John's",
         "NL",
         "A1A0A1"
        ],
        [
         "12",
         "Isabella",
         "Lee",
         "1111 Poplar St",
         "Fredericton",
         "NB",
         "E3B0A1"
        ],
        [
         "13",
         "Daniel",
         "Harris",
         "1212 Ash Blvd",
         "Charlottetown",
         "PE",
         "C1A0A1"
        ],
        [
         "14",
         "Sophia",
         "Young",
         "1313 Beech Dr",
         "Yellowknife",
         "NT",
         "X1A0A1"
        ],
        [
         "15",
         "Matthew",
         "King",
         "1414 Cedar Ln",
         "Whitehorse",
         "YT",
         "Y1A0A1"
        ],
        [
         "16",
         "Charlotte",
         "Scott",
         "1515 Elm St",
         "Iqaluit",
         "NU",
         "X0A0A1"
        ],
        [
         "17",
         "Joseph",
         "Green",
         "1616 Maple Ave",
         "Regina",
         "SK",
         "S4P0A1"
        ],
        [
         "18",
         "Amelia",
         "Adams",
         "1717 Oak Dr",
         "Saskatoon",
         "SK",
         "S7K0A1"
        ],
        [
         "19",
         "Christopher",
         "Baker",
         "1818 Pine Rd",
         "Thunder Bay",
         "ON",
         "P7A0A1"
        ],
        [
         "20",
         "Mia",
         "Nelson",
         "1919 Birch Blvd",
         "London",
         "ON",
         "N6A0A1"
        ],
        [
         "21",
         "Andrew",
         "Mitchell",
         "2020 Spruce Ln",
         "Hamilton",
         "ON",
         "L8P0A1"
        ],
        [
         "22",
         "Harper",
         "Roberts",
         "2121 Fir St",
         "Kitchener",
         "ON",
         "N2G0A1"
        ],
        [
         "23",
         "Joshua",
         "Turner",
         "2222 Redwood Dr",
         "Windsor",
         "ON",
         "N9A0A1"
        ],
        [
         "24",
         "Evelyn",
         "Phillips",
         "2323 Cypress Ave",
         "Kingston",
         "ON",
         "K7L0A1"
        ],
        [
         "25",
         "Daniel",
         "Campbell",
         "2424 Willow Rd",
         "St. Catharines",
         "ON",
         "L2R0A1"
        ],
        [
         "26",
         "Abigail",
         "Parker",
         "2525 Poplar St",
         "Barrie",
         "ON",
         "L4M0A1"
        ],
        [
         "27",
         "James",
         "Evans",
         "2626 Ash Blvd",
         "Guelph",
         "ON",
         "N1H0A1"
        ],
        [
         "28",
         "Emily",
         "Edwards",
         "2727 Beech Dr",
         "Brantford",
         "ON",
         "N3T0A1"
        ],
        [
         "29",
         "Michael",
         "Collins",
         "2828 Cedar Ln",
         "Thunder Bay",
         "ON",
         "P7B0A1"
        ],
        [
         "30",
         "Elizabeth",
         "Stewart",
         "2929 Elm St",
         "Peterborough",
         "ON",
         "K9H0A1"
        ],
        [
         "31",
         "David",
         "Sanchez",
         "3030 Maple Ave",
         "North Bay",
         "ON",
         "P1B0A1"
        ],
        [
         "32",
         "Sophia",
         "Morris",
         "3131 Oak Dr",
         "Belleville",
         "ON",
         "K8N0A1"
        ],
        [
         "33",
         "John",
         "Rogers",
         "3232 Pine Rd",
         "Timmins",
         "ON",
         "P4N0A1"
        ],
        [
         "34",
         "Olivia",
         "Reed",
         "3333 Birch Blvd",
         "Orillia",
         "ON",
         "L3V0A1"
        ],
        [
         "35",
         "William",
         "Cook",
         "3434 Spruce Ln",
         "Midland",
         "ON",
         "L4R0A1"
        ],
        [
         "36",
         "Ava",
         "Morgan",
         "3535 Fir St",
         "Collingwood",
         "ON",
         "L9Y0A1"
        ],
        [
         "37",
         "Alexander",
         "Bell",
         "3636 Redwood Dr",
         "Stratford",
         "ON",
         "N5A0A1"
        ],
        [
         "38",
         "Isabella",
         "Murphy",
         "3737 Cypress Ave",
         "Woodstock",
         "ON",
         "N4S0A1"
        ],
        [
         "39",
         "Daniel",
         "Bailey",
         "3838 Willow Rd",
         "Orangeville",
         "ON",
         "L9W0A1"
        ],
        [
         "40",
         "Sophia",
         "Rivera",
         "3939 Poplar St",
         "Milton",
         "ON",
         "L9T0A1"
        ],
        [
         "41",
         "Matthew",
         "Cooper",
         "4040 Ash Blvd",
         "Georgetown",
         "ON",
         "L7G0A1"
        ],
        [
         "42",
         "Charlotte",
         "Richardson",
         "4141 Beech Dr",
         "Newmarket",
         "ON",
         "L3Y0A1"
        ],
        [
         "43",
         "Joseph",
         "Cox",
         "4242 Cedar Ln",
         "Aurora",
         "ON",
         "L4G0A1"
        ],
        [
         "44",
         "Amelia",
         "Howard",
         "4343 Elm St",
         "Bradford",
         "ON",
         "L3Z0A1"
        ],
        [
         "45",
         "Christopher",
         "Ward",
         "4444 Maple Ave",
         "Keswick",
         "ON",
         "L4P0A1"
        ],
        [
         "46",
         "Mia",
         "Brooks",
         "4545 Oak Dr",
         "Stouffville",
         "ON",
         "L4A0A1"
        ],
        [
         "47",
         "Andrew",
         "Gray",
         "4646 Pine Rd",
         "Uxbridge",
         "ON",
         "L9P0A1"
        ],
        [
         "48",
         "Harper",
         "James",
         "4747 Birch Blvd",
         "Port Perry",
         "ON",
         "L9L0A1"
        ],
        [
         "49",
         "Joshua",
         "Bennett",
         "4848 Spruce Ln",
         "Beaverton",
         "ON",
         "L0K0A1"
        ],
        [
         "50",
         "Evelyn",
         "Barnes",
         "4949 Fir St",
         "Sutton",
         "ON",
         "L0E0A1"
        ],
        [
         "51",
         "Daniel",
         "Ross",
         "5050 Redwood Dr",
         "Pefferlaw",
         "ON",
         "L0E0A1"
        ],
        [
         "52",
         "Abigail",
         "Henderson",
         "5151 Cypress Ave",
         "Mount Albert",
         "ON",
         "L0G0A1"
        ],
        [
         "53",
         "James",
         "Jenkins",
         "5252 Willow Rd",
         "Queensville",
         "ON",
         "L0G0A1"
        ],
        [
         "54",
         "Emily",
         "Perry",
         "5353 Poplar St",
         "Sharon",
         "ON",
         "L0G0A1"
        ],
        [
         "55",
         "Michael",
         "Butler",
         "5454 Ash Blvd",
         "Holland Landing",
         "ON",
         "L9N0A1"
        ],
        [
         "56",
         "Elizabeth",
         "Long",
         "5555 Beech Dr",
         "East Gwillimbury",
         "ON",
         "L9N0A1"
        ],
        [
         "57",
         "David",
         "Patterson",
         "5656 Cedar Ln",
         "King City",
         "ON",
         "L7B0A1"
        ],
        [
         "58",
         "Sophia",
         "Hughes",
         "5757 Elm St",
         "Nobleton",
         "ON",
         "L0G0A1"
        ],
        [
         "59",
         "John",
         "Flores",
         "5858 Maple Ave",
         "Schomberg",
         "ON",
         "L0G0A1"
        ],
        [
         "60",
         "Olivia",
         "Washington",
         "5959 Oak Dr",
         "Tottenham",
         "ON",
         "L0G0A1"
        ],
        [
         "61",
         "William",
         "Butler",
         "6060 Pine Rd",
         "Alliston",
         "ON",
         "L9R0A1"
        ],
        [
         "62",
         "Ava",
         "Simmons",
         "6161 Birch Blvd",
         "Angus",
         "ON",
         "L0M0A1"
        ],
        [
         "63",
         "Alexander",
         "Foster",
         "6262 Spruce Ln",
         "Stayner",
         "ON",
         "L0M0A1"
        ],
        [
         "64",
         "Isabella",
         "Gonzalez",
         "6363 Fir St",
         "Wasaga Beach",
         "ON",
         "L9Z0A1"
        ],
        [
         "65",
         "Daniel",
         "Bryant",
         "6464 Redwood Dr",
         "Elmvale",
         "ON",
         "L0L0A1"
        ],
        [
         "66",
         "Sophia",
         "Alexander",
         "6565 Cypress Ave",
         "Midland",
         "ON",
         "L4R0A1"
        ],
        [
         "67",
         "Matthew",
         "Russell",
         "6666 Willow Rd",
         "Penetanguishene",
         "ON",
         "L9M0A1"
        ],
        [
         "68",
         "Charlotte",
         "Griffin",
         "6767 Poplar St",
         "Victoria Harbour",
         "ON",
         "L0K0A1"
        ],
        [
         "69",
         "Joseph",
         "Diaz",
         "6868 Ash Blvd",
         "Port McNicoll",
         "ON",
         "L0K0A1"
        ],
        [
         "70",
         "Amelia",
         "Hayes",
         "6969 Beech Dr",
         "Waubaushene",
         "ON",
         "L0K0A1"
        ],
        [
         "71",
         "Christopher",
         "Myers",
         "7070 Cedar Ln",
         "Coldwater",
         "ON",
         "L0K0A1"
        ],
        [
         "72",
         "Mia",
         "Ford",
         "7171 Elm St",
         "Orillia",
         "ON",
         "L3V0A1"
        ],
        [
         "73",
         "Andrew",
         "Hamilton",
         "7272 Maple Ave",
         "Gravenhurst",
         "ON",
         "P1P0A1"
        ],
        [
         "74",
         "Harper",
         "Graham",
         "7373 Oak Dr",
         "Bala",
         "ON",
         "P0C0A1"
        ],
        [
         "75",
         "Joshua",
         "Sullivan",
         "7474 Pine Rd",
         "Bracebridge",
         "ON",
         "P1L0A1"
        ],
        [
         "76",
         "Evelyn",
         "Wallace",
         "7575 Birch Blvd",
         "Huntsville",
         "ON",
         "P1H0A1"
        ],
        [
         "77",
         "Daniel",
         "Woods",
         "7676 Spruce Ln",
         "Burks Falls",
         "ON",
         "P0A0A1"
        ],
        [
         "78",
         "Abigail",
         "Cole",
         "7777 Fir St",
         "Sundridge",
         "ON",
         "P0A0A1"
        ],
        [
         "79",
         "James",
         "West",
         "7878 Redwood Dr",
         "South River",
         "ON",
         "P0A0A1"
        ],
        [
         "80",
         "Emily",
         "Jordan",
         "7979 Cypress Ave",
         "North Bay",
         "ON",
         "P1B0A1"
        ],
        [
         "81",
         "Michael",
         "Owens",
         "8080 Willow Rd",
         "Mattawa",
         "ON",
         "P0H0A1"
        ],
        [
         "82",
         "Elizabeth",
         "Reynolds",
         "8181 Poplar St",
         "Sturgeon Falls",
         "ON",
         "P2B0A1"
        ],
        [
         "83",
         "David",
         "Fisher",
         "8282 Ash Blvd",
         "Verner",
         "ON",
         "P0H0A1"
        ],
        [
         "84",
         "Sophia",
         "Ellis",
         "8383 Beech Dr",
         "Field",
         "ON",
         "P0H0A1"
        ],
        [
         "85",
         "John",
         "Harrison",
         "8484 Cedar Ln",
         "Temagami",
         "ON",
         "P0H0A1"
        ],
        [
         "86",
         "Olivia",
         "Gibson",
         "8585 Elm St",
         "New Liskeard",
         "ON",
         "P0J0A1"
        ],
        [
         "87",
         "William",
         "McDonald",
         "8686 Maple Ave",
         "Haileybury",
         null,
         null
        ]
       ],
       "datasetInfos": [],
       "dbfsResultPath": null,
       "isJsonSchema": true,
       "metadata": {},
       "overflow": false,
       "plotOptions": {
        "customPlotOptions": {},
        "displayType": "table",
        "pivotAggregation": null,
        "pivotColumns": null,
        "xColumns": null,
        "yColumns": null
       },
       "removedWidgets": [],
       "schema": [
        {
         "metadata": "{}",
         "name": "customer_id",
         "type": "\"string\""
        },
        {
         "metadata": "{}",
         "name": "first_name",
         "type": "\"string\""
        },
        {
         "metadata": "{}",
         "name": "last_name",
         "type": "\"string\""
        },
        {
         "metadata": "{}",
         "name": "address",
         "type": "\"string\""
        },
        {
         "metadata": "{}",
         "name": "city",
         "type": "\"string\""
        },
        {
         "metadata": "{}",
         "name": "state",
         "type": "\"string\""
        },
        {
         "metadata": "{}",
         "name": "zip",
         "type": "\"string\""
        }
       ],
       "type": "table"
      }
     },
     "output_type": "display_data"
    }
   ],
   "source": [
    "df_customers = spark.read.csv(\"/mnt/ctnadls/customers.csv\", header=True)\n",
    "display(df_customers)"
   ]
  },
  {
   "cell_type": "code",
   "execution_count": 0,
   "metadata": {
    "application/vnd.databricks.v1+cell": {
     "cellMetadata": {
      "byteLimit": 2048000,
      "rowLimit": 10000
     },
     "inputWidgets": {},
     "nuid": "2d80dfb3-bba0-43ec-ab97-bc113c9c637c",
     "showTitle": false,
     "tableResultSettingsMap": {},
     "title": ""
    }
   },
   "outputs": [
    {
     "output_type": "display_data",
     "data": {
      "text/html": [
       "<style scoped>\n",
       "  .table-result-container {\n",
       "    max-height: 300px;\n",
       "    overflow: auto;\n",
       "  }\n",
       "  table, th, td {\n",
       "    border: 1px solid black;\n",
       "    border-collapse: collapse;\n",
       "  }\n",
       "  th, td {\n",
       "    padding: 5px;\n",
       "  }\n",
       "  th {\n",
       "    text-align: left;\n",
       "  }\n",
       "</style><div class='table-result-container'><table class='table-result'><thead style='background-color: white'><tr><th>customer_id</th><th>first_name</th><th>last_name</th><th>address</th><th>city</th><th>state</th><th>zip</th></tr></thead><tbody><tr><td>1</td><td>John</td><td>Doe</td><td>123 Elm St</td><td>Toronto</td><td>ON</td><td>M4B1B3</td></tr><tr><td>2</td><td>Jane</td><td>Smith</td><td>456 Maple Ave</td><td>Ottawa</td><td>ON</td><td>K1A0B1</td></tr><tr><td>3</td><td>Michael</td><td>Johnson</td><td>789 Oak Dr</td><td>Montreal</td><td>QC</td><td>H1A1A1</td></tr><tr><td>4</td><td>Emily</td><td>Davis</td><td>101 Pine Rd</td><td>Calgary</td><td>AB</td><td>T2A0A1</td></tr><tr><td>5</td><td>David</td><td>Wilson</td><td>202 Birch Blvd</td><td>Vancouver</td><td>BC</td><td>V5K0A1</td></tr><tr><td>6</td><td>Emma</td><td>Clark</td><td>505 Cedar St</td><td>Halifax</td><td>NS</td><td>B3H0A1</td></tr><tr><td>7</td><td>James</td><td>Martinez</td><td>606 Spruce Ln</td><td>Winnipeg</td><td>MB</td><td>R3C0A1</td></tr><tr><td>8</td><td>Olivia</td><td>Garcia</td><td>707 Fir St</td><td>Edmonton</td><td>AB</td><td>T5A0A1</td></tr><tr><td>9</td><td>William</td><td>Lopez</td><td>808 Redwood Dr</td><td>Victoria</td><td>BC</td><td>V8W0A1</td></tr><tr><td>10</td><td>Ava</td><td>Anderson</td><td>909 Cypress Ave</td><td>Quebec City</td><td>QC</td><td>G1A0A1</td></tr><tr><td>11</td><td>Alexander</td><td>Thomas</td><td>1010 Willow Rd</td><td>St. John's</td><td>NL</td><td>A1A0A1</td></tr><tr><td>12</td><td>Isabella</td><td>Lee</td><td>1111 Poplar St</td><td>Fredericton</td><td>NB</td><td>E3B0A1</td></tr><tr><td>13</td><td>Daniel</td><td>Harris</td><td>1212 Ash Blvd</td><td>Charlottetown</td><td>PE</td><td>C1A0A1</td></tr><tr><td>14</td><td>Sophia</td><td>Young</td><td>1313 Beech Dr</td><td>Yellowknife</td><td>NT</td><td>X1A0A1</td></tr><tr><td>15</td><td>Matthew</td><td>King</td><td>1414 Cedar Ln</td><td>Whitehorse</td><td>YT</td><td>Y1A0A1</td></tr><tr><td>16</td><td>Charlotte</td><td>Scott</td><td>1515 Elm St</td><td>Iqaluit</td><td>NU</td><td>X0A0A1</td></tr><tr><td>17</td><td>Joseph</td><td>Green</td><td>1616 Maple Ave</td><td>Regina</td><td>SK</td><td>S4P0A1</td></tr><tr><td>18</td><td>Amelia</td><td>Adams</td><td>1717 Oak Dr</td><td>Saskatoon</td><td>SK</td><td>S7K0A1</td></tr><tr><td>19</td><td>Christopher</td><td>Baker</td><td>1818 Pine Rd</td><td>Thunder Bay</td><td>ON</td><td>P7A0A1</td></tr><tr><td>20</td><td>Mia</td><td>Nelson</td><td>1919 Birch Blvd</td><td>London</td><td>ON</td><td>N6A0A1</td></tr><tr><td>21</td><td>Andrew</td><td>Mitchell</td><td>2020 Spruce Ln</td><td>Hamilton</td><td>ON</td><td>L8P0A1</td></tr><tr><td>22</td><td>Harper</td><td>Roberts</td><td>2121 Fir St</td><td>Kitchener</td><td>ON</td><td>N2G0A1</td></tr><tr><td>23</td><td>Joshua</td><td>Turner</td><td>2222 Redwood Dr</td><td>Windsor</td><td>ON</td><td>N9A0A1</td></tr><tr><td>24</td><td>Evelyn</td><td>Phillips</td><td>2323 Cypress Ave</td><td>Kingston</td><td>ON</td><td>K7L0A1</td></tr><tr><td>25</td><td>Daniel</td><td>Campbell</td><td>2424 Willow Rd</td><td>St. Catharines</td><td>ON</td><td>L2R0A1</td></tr><tr><td>26</td><td>Abigail</td><td>Parker</td><td>2525 Poplar St</td><td>Barrie</td><td>ON</td><td>L4M0A1</td></tr><tr><td>27</td><td>James</td><td>Evans</td><td>2626 Ash Blvd</td><td>Guelph</td><td>ON</td><td>N1H0A1</td></tr><tr><td>28</td><td>Emily</td><td>Edwards</td><td>2727 Beech Dr</td><td>Brantford</td><td>ON</td><td>N3T0A1</td></tr><tr><td>29</td><td>Michael</td><td>Collins</td><td>2828 Cedar Ln</td><td>Thunder Bay</td><td>ON</td><td>P7B0A1</td></tr><tr><td>30</td><td>Elizabeth</td><td>Stewart</td><td>2929 Elm St</td><td>Peterborough</td><td>ON</td><td>K9H0A1</td></tr><tr><td>31</td><td>David</td><td>Sanchez</td><td>3030 Maple Ave</td><td>North Bay</td><td>ON</td><td>P1B0A1</td></tr><tr><td>32</td><td>Sophia</td><td>Morris</td><td>3131 Oak Dr</td><td>Belleville</td><td>ON</td><td>K8N0A1</td></tr><tr><td>33</td><td>John</td><td>Rogers</td><td>3232 Pine Rd</td><td>Timmins</td><td>ON</td><td>P4N0A1</td></tr><tr><td>34</td><td>Olivia</td><td>Reed</td><td>3333 Birch Blvd</td><td>Orillia</td><td>ON</td><td>L3V0A1</td></tr><tr><td>35</td><td>William</td><td>Cook</td><td>3434 Spruce Ln</td><td>Midland</td><td>ON</td><td>L4R0A1</td></tr><tr><td>36</td><td>Ava</td><td>Morgan</td><td>3535 Fir St</td><td>Collingwood</td><td>ON</td><td>L9Y0A1</td></tr><tr><td>37</td><td>Alexander</td><td>Bell</td><td>3636 Redwood Dr</td><td>Stratford</td><td>ON</td><td>N5A0A1</td></tr><tr><td>38</td><td>Isabella</td><td>Murphy</td><td>3737 Cypress Ave</td><td>Woodstock</td><td>ON</td><td>N4S0A1</td></tr><tr><td>39</td><td>Daniel</td><td>Bailey</td><td>3838 Willow Rd</td><td>Orangeville</td><td>ON</td><td>L9W0A1</td></tr><tr><td>40</td><td>Sophia</td><td>Rivera</td><td>3939 Poplar St</td><td>Milton</td><td>ON</td><td>L9T0A1</td></tr><tr><td>41</td><td>Matthew</td><td>Cooper</td><td>4040 Ash Blvd</td><td>Georgetown</td><td>ON</td><td>L7G0A1</td></tr><tr><td>42</td><td>Charlotte</td><td>Richardson</td><td>4141 Beech Dr</td><td>Newmarket</td><td>ON</td><td>L3Y0A1</td></tr><tr><td>43</td><td>Joseph</td><td>Cox</td><td>4242 Cedar Ln</td><td>Aurora</td><td>ON</td><td>L4G0A1</td></tr><tr><td>44</td><td>Amelia</td><td>Howard</td><td>4343 Elm St</td><td>Bradford</td><td>ON</td><td>L3Z0A1</td></tr><tr><td>45</td><td>Christopher</td><td>Ward</td><td>4444 Maple Ave</td><td>Keswick</td><td>ON</td><td>L4P0A1</td></tr><tr><td>46</td><td>Mia</td><td>Brooks</td><td>4545 Oak Dr</td><td>Stouffville</td><td>ON</td><td>L4A0A1</td></tr><tr><td>47</td><td>Andrew</td><td>Gray</td><td>4646 Pine Rd</td><td>Uxbridge</td><td>ON</td><td>L9P0A1</td></tr><tr><td>48</td><td>Harper</td><td>James</td><td>4747 Birch Blvd</td><td>Port Perry</td><td>ON</td><td>L9L0A1</td></tr><tr><td>49</td><td>Joshua</td><td>Bennett</td><td>4848 Spruce Ln</td><td>Beaverton</td><td>ON</td><td>L0K0A1</td></tr><tr><td>50</td><td>Evelyn</td><td>Barnes</td><td>4949 Fir St</td><td>Sutton</td><td>ON</td><td>L0E0A1</td></tr><tr><td>51</td><td>Daniel</td><td>Ross</td><td>5050 Redwood Dr</td><td>Pefferlaw</td><td>ON</td><td>L0E0A1</td></tr><tr><td>52</td><td>Abigail</td><td>Henderson</td><td>5151 Cypress Ave</td><td>Mount Albert</td><td>ON</td><td>L0G0A1</td></tr><tr><td>53</td><td>James</td><td>Jenkins</td><td>5252 Willow Rd</td><td>Queensville</td><td>ON</td><td>L0G0A1</td></tr><tr><td>54</td><td>Emily</td><td>Perry</td><td>5353 Poplar St</td><td>Sharon</td><td>ON</td><td>L0G0A1</td></tr><tr><td>55</td><td>Michael</td><td>Butler</td><td>5454 Ash Blvd</td><td>Holland Landing</td><td>ON</td><td>L9N0A1</td></tr><tr><td>56</td><td>Elizabeth</td><td>Long</td><td>5555 Beech Dr</td><td>East Gwillimbury</td><td>ON</td><td>L9N0A1</td></tr><tr><td>57</td><td>David</td><td>Patterson</td><td>5656 Cedar Ln</td><td>King City</td><td>ON</td><td>L7B0A1</td></tr><tr><td>58</td><td>Sophia</td><td>Hughes</td><td>5757 Elm St</td><td>Nobleton</td><td>ON</td><td>L0G0A1</td></tr><tr><td>59</td><td>John</td><td>Flores</td><td>5858 Maple Ave</td><td>Schomberg</td><td>ON</td><td>L0G0A1</td></tr><tr><td>60</td><td>Olivia</td><td>Washington</td><td>5959 Oak Dr</td><td>Tottenham</td><td>ON</td><td>L0G0A1</td></tr><tr><td>61</td><td>William</td><td>Butler</td><td>6060 Pine Rd</td><td>Alliston</td><td>ON</td><td>L9R0A1</td></tr><tr><td>62</td><td>Ava</td><td>Simmons</td><td>6161 Birch Blvd</td><td>Angus</td><td>ON</td><td>L0M0A1</td></tr><tr><td>63</td><td>Alexander</td><td>Foster</td><td>6262 Spruce Ln</td><td>Stayner</td><td>ON</td><td>L0M0A1</td></tr><tr><td>64</td><td>Isabella</td><td>Gonzalez</td><td>6363 Fir St</td><td>Wasaga Beach</td><td>ON</td><td>L9Z0A1</td></tr><tr><td>65</td><td>Daniel</td><td>Bryant</td><td>6464 Redwood Dr</td><td>Elmvale</td><td>ON</td><td>L0L0A1</td></tr><tr><td>66</td><td>Sophia</td><td>Alexander</td><td>6565 Cypress Ave</td><td>Midland</td><td>ON</td><td>L4R0A1</td></tr><tr><td>67</td><td>Matthew</td><td>Russell</td><td>6666 Willow Rd</td><td>Penetanguishene</td><td>ON</td><td>L9M0A1</td></tr><tr><td>68</td><td>Charlotte</td><td>Griffin</td><td>6767 Poplar St</td><td>Victoria Harbour</td><td>ON</td><td>L0K0A1</td></tr><tr><td>69</td><td>Joseph</td><td>Diaz</td><td>6868 Ash Blvd</td><td>Port McNicoll</td><td>ON</td><td>L0K0A1</td></tr><tr><td>70</td><td>Amelia</td><td>Hayes</td><td>6969 Beech Dr</td><td>Waubaushene</td><td>ON</td><td>L0K0A1</td></tr><tr><td>71</td><td>Christopher</td><td>Myers</td><td>7070 Cedar Ln</td><td>Coldwater</td><td>ON</td><td>L0K0A1</td></tr><tr><td>72</td><td>Mia</td><td>Ford</td><td>7171 Elm St</td><td>Orillia</td><td>ON</td><td>L3V0A1</td></tr><tr><td>73</td><td>Andrew</td><td>Hamilton</td><td>7272 Maple Ave</td><td>Gravenhurst</td><td>ON</td><td>P1P0A1</td></tr><tr><td>74</td><td>Harper</td><td>Graham</td><td>7373 Oak Dr</td><td>Bala</td><td>ON</td><td>P0C0A1</td></tr><tr><td>75</td><td>Joshua</td><td>Sullivan</td><td>7474 Pine Rd</td><td>Bracebridge</td><td>ON</td><td>P1L0A1</td></tr><tr><td>76</td><td>Evelyn</td><td>Wallace</td><td>7575 Birch Blvd</td><td>Huntsville</td><td>ON</td><td>P1H0A1</td></tr><tr><td>77</td><td>Daniel</td><td>Woods</td><td>7676 Spruce Ln</td><td>Burks Falls</td><td>ON</td><td>P0A0A1</td></tr><tr><td>78</td><td>Abigail</td><td>Cole</td><td>7777 Fir St</td><td>Sundridge</td><td>ON</td><td>P0A0A1</td></tr><tr><td>79</td><td>James</td><td>West</td><td>7878 Redwood Dr</td><td>South River</td><td>ON</td><td>P0A0A1</td></tr><tr><td>80</td><td>Emily</td><td>Jordan</td><td>7979 Cypress Ave</td><td>North Bay</td><td>ON</td><td>P1B0A1</td></tr><tr><td>81</td><td>Michael</td><td>Owens</td><td>8080 Willow Rd</td><td>Mattawa</td><td>ON</td><td>P0H0A1</td></tr><tr><td>82</td><td>Elizabeth</td><td>Reynolds</td><td>8181 Poplar St</td><td>Sturgeon Falls</td><td>ON</td><td>P2B0A1</td></tr><tr><td>83</td><td>David</td><td>Fisher</td><td>8282 Ash Blvd</td><td>Verner</td><td>ON</td><td>P0H0A1</td></tr><tr><td>84</td><td>Sophia</td><td>Ellis</td><td>8383 Beech Dr</td><td>Field</td><td>ON</td><td>P0H0A1</td></tr><tr><td>85</td><td>John</td><td>Harrison</td><td>8484 Cedar Ln</td><td>Temagami</td><td>ON</td><td>P0H0A1</td></tr><tr><td>86</td><td>Olivia</td><td>Gibson</td><td>8585 Elm St</td><td>New Liskeard</td><td>ON</td><td>P0J0A1</td></tr><tr><td>87</td><td>William</td><td>McDonald</td><td>8686 Maple Ave</td><td>Haileybury</td><td>null</td><td>null</td></tr></tbody></table></div>"
      ]
     },
     "metadata": {
      "application/vnd.databricks.v1+output": {
       "addedWidgets": {},
       "aggData": [],
       "aggError": "",
       "aggOverflow": false,
       "aggSchema": [],
       "aggSeriesLimitReached": false,
       "aggType": "",
       "arguments": {},
       "columnCustomDisplayInfos": {},
       "data": [
        [
         "1",
         "John",
         "Doe",
         "123 Elm St",
         "Toronto",
         "ON",
         "M4B1B3"
        ],
        [
         "2",
         "Jane",
         "Smith",
         "456 Maple Ave",
         "Ottawa",
         "ON",
         "K1A0B1"
        ],
        [
         "3",
         "Michael",
         "Johnson",
         "789 Oak Dr",
         "Montreal",
         "QC",
         "H1A1A1"
        ],
        [
         "4",
         "Emily",
         "Davis",
         "101 Pine Rd",
         "Calgary",
         "AB",
         "T2A0A1"
        ],
        [
         "5",
         "David",
         "Wilson",
         "202 Birch Blvd",
         "Vancouver",
         "BC",
         "V5K0A1"
        ],
        [
         "6",
         "Emma",
         "Clark",
         "505 Cedar St",
         "Halifax",
         "NS",
         "B3H0A1"
        ],
        [
         "7",
         "James",
         "Martinez",
         "606 Spruce Ln",
         "Winnipeg",
         "MB",
         "R3C0A1"
        ],
        [
         "8",
         "Olivia",
         "Garcia",
         "707 Fir St",
         "Edmonton",
         "AB",
         "T5A0A1"
        ],
        [
         "9",
         "William",
         "Lopez",
         "808 Redwood Dr",
         "Victoria",
         "BC",
         "V8W0A1"
        ],
        [
         "10",
         "Ava",
         "Anderson",
         "909 Cypress Ave",
         "Quebec City",
         "QC",
         "G1A0A1"
        ],
        [
         "11",
         "Alexander",
         "Thomas",
         "1010 Willow Rd",
         "St. John's",
         "NL",
         "A1A0A1"
        ],
        [
         "12",
         "Isabella",
         "Lee",
         "1111 Poplar St",
         "Fredericton",
         "NB",
         "E3B0A1"
        ],
        [
         "13",
         "Daniel",
         "Harris",
         "1212 Ash Blvd",
         "Charlottetown",
         "PE",
         "C1A0A1"
        ],
        [
         "14",
         "Sophia",
         "Young",
         "1313 Beech Dr",
         "Yellowknife",
         "NT",
         "X1A0A1"
        ],
        [
         "15",
         "Matthew",
         "King",
         "1414 Cedar Ln",
         "Whitehorse",
         "YT",
         "Y1A0A1"
        ],
        [
         "16",
         "Charlotte",
         "Scott",
         "1515 Elm St",
         "Iqaluit",
         "NU",
         "X0A0A1"
        ],
        [
         "17",
         "Joseph",
         "Green",
         "1616 Maple Ave",
         "Regina",
         "SK",
         "S4P0A1"
        ],
        [
         "18",
         "Amelia",
         "Adams",
         "1717 Oak Dr",
         "Saskatoon",
         "SK",
         "S7K0A1"
        ],
        [
         "19",
         "Christopher",
         "Baker",
         "1818 Pine Rd",
         "Thunder Bay",
         "ON",
         "P7A0A1"
        ],
        [
         "20",
         "Mia",
         "Nelson",
         "1919 Birch Blvd",
         "London",
         "ON",
         "N6A0A1"
        ],
        [
         "21",
         "Andrew",
         "Mitchell",
         "2020 Spruce Ln",
         "Hamilton",
         "ON",
         "L8P0A1"
        ],
        [
         "22",
         "Harper",
         "Roberts",
         "2121 Fir St",
         "Kitchener",
         "ON",
         "N2G0A1"
        ],
        [
         "23",
         "Joshua",
         "Turner",
         "2222 Redwood Dr",
         "Windsor",
         "ON",
         "N9A0A1"
        ],
        [
         "24",
         "Evelyn",
         "Phillips",
         "2323 Cypress Ave",
         "Kingston",
         "ON",
         "K7L0A1"
        ],
        [
         "25",
         "Daniel",
         "Campbell",
         "2424 Willow Rd",
         "St. Catharines",
         "ON",
         "L2R0A1"
        ],
        [
         "26",
         "Abigail",
         "Parker",
         "2525 Poplar St",
         "Barrie",
         "ON",
         "L4M0A1"
        ],
        [
         "27",
         "James",
         "Evans",
         "2626 Ash Blvd",
         "Guelph",
         "ON",
         "N1H0A1"
        ],
        [
         "28",
         "Emily",
         "Edwards",
         "2727 Beech Dr",
         "Brantford",
         "ON",
         "N3T0A1"
        ],
        [
         "29",
         "Michael",
         "Collins",
         "2828 Cedar Ln",
         "Thunder Bay",
         "ON",
         "P7B0A1"
        ],
        [
         "30",
         "Elizabeth",
         "Stewart",
         "2929 Elm St",
         "Peterborough",
         "ON",
         "K9H0A1"
        ],
        [
         "31",
         "David",
         "Sanchez",
         "3030 Maple Ave",
         "North Bay",
         "ON",
         "P1B0A1"
        ],
        [
         "32",
         "Sophia",
         "Morris",
         "3131 Oak Dr",
         "Belleville",
         "ON",
         "K8N0A1"
        ],
        [
         "33",
         "John",
         "Rogers",
         "3232 Pine Rd",
         "Timmins",
         "ON",
         "P4N0A1"
        ],
        [
         "34",
         "Olivia",
         "Reed",
         "3333 Birch Blvd",
         "Orillia",
         "ON",
         "L3V0A1"
        ],
        [
         "35",
         "William",
         "Cook",
         "3434 Spruce Ln",
         "Midland",
         "ON",
         "L4R0A1"
        ],
        [
         "36",
         "Ava",
         "Morgan",
         "3535 Fir St",
         "Collingwood",
         "ON",
         "L9Y0A1"
        ],
        [
         "37",
         "Alexander",
         "Bell",
         "3636 Redwood Dr",
         "Stratford",
         "ON",
         "N5A0A1"
        ],
        [
         "38",
         "Isabella",
         "Murphy",
         "3737 Cypress Ave",
         "Woodstock",
         "ON",
         "N4S0A1"
        ],
        [
         "39",
         "Daniel",
         "Bailey",
         "3838 Willow Rd",
         "Orangeville",
         "ON",
         "L9W0A1"
        ],
        [
         "40",
         "Sophia",
         "Rivera",
         "3939 Poplar St",
         "Milton",
         "ON",
         "L9T0A1"
        ],
        [
         "41",
         "Matthew",
         "Cooper",
         "4040 Ash Blvd",
         "Georgetown",
         "ON",
         "L7G0A1"
        ],
        [
         "42",
         "Charlotte",
         "Richardson",
         "4141 Beech Dr",
         "Newmarket",
         "ON",
         "L3Y0A1"
        ],
        [
         "43",
         "Joseph",
         "Cox",
         "4242 Cedar Ln",
         "Aurora",
         "ON",
         "L4G0A1"
        ],
        [
         "44",
         "Amelia",
         "Howard",
         "4343 Elm St",
         "Bradford",
         "ON",
         "L3Z0A1"
        ],
        [
         "45",
         "Christopher",
         "Ward",
         "4444 Maple Ave",
         "Keswick",
         "ON",
         "L4P0A1"
        ],
        [
         "46",
         "Mia",
         "Brooks",
         "4545 Oak Dr",
         "Stouffville",
         "ON",
         "L4A0A1"
        ],
        [
         "47",
         "Andrew",
         "Gray",
         "4646 Pine Rd",
         "Uxbridge",
         "ON",
         "L9P0A1"
        ],
        [
         "48",
         "Harper",
         "James",
         "4747 Birch Blvd",
         "Port Perry",
         "ON",
         "L9L0A1"
        ],
        [
         "49",
         "Joshua",
         "Bennett",
         "4848 Spruce Ln",
         "Beaverton",
         "ON",
         "L0K0A1"
        ],
        [
         "50",
         "Evelyn",
         "Barnes",
         "4949 Fir St",
         "Sutton",
         "ON",
         "L0E0A1"
        ],
        [
         "51",
         "Daniel",
         "Ross",
         "5050 Redwood Dr",
         "Pefferlaw",
         "ON",
         "L0E0A1"
        ],
        [
         "52",
         "Abigail",
         "Henderson",
         "5151 Cypress Ave",
         "Mount Albert",
         "ON",
         "L0G0A1"
        ],
        [
         "53",
         "James",
         "Jenkins",
         "5252 Willow Rd",
         "Queensville",
         "ON",
         "L0G0A1"
        ],
        [
         "54",
         "Emily",
         "Perry",
         "5353 Poplar St",
         "Sharon",
         "ON",
         "L0G0A1"
        ],
        [
         "55",
         "Michael",
         "Butler",
         "5454 Ash Blvd",
         "Holland Landing",
         "ON",
         "L9N0A1"
        ],
        [
         "56",
         "Elizabeth",
         "Long",
         "5555 Beech Dr",
         "East Gwillimbury",
         "ON",
         "L9N0A1"
        ],
        [
         "57",
         "David",
         "Patterson",
         "5656 Cedar Ln",
         "King City",
         "ON",
         "L7B0A1"
        ],
        [
         "58",
         "Sophia",
         "Hughes",
         "5757 Elm St",
         "Nobleton",
         "ON",
         "L0G0A1"
        ],
        [
         "59",
         "John",
         "Flores",
         "5858 Maple Ave",
         "Schomberg",
         "ON",
         "L0G0A1"
        ],
        [
         "60",
         "Olivia",
         "Washington",
         "5959 Oak Dr",
         "Tottenham",
         "ON",
         "L0G0A1"
        ],
        [
         "61",
         "William",
         "Butler",
         "6060 Pine Rd",
         "Alliston",
         "ON",
         "L9R0A1"
        ],
        [
         "62",
         "Ava",
         "Simmons",
         "6161 Birch Blvd",
         "Angus",
         "ON",
         "L0M0A1"
        ],
        [
         "63",
         "Alexander",
         "Foster",
         "6262 Spruce Ln",
         "Stayner",
         "ON",
         "L0M0A1"
        ],
        [
         "64",
         "Isabella",
         "Gonzalez",
         "6363 Fir St",
         "Wasaga Beach",
         "ON",
         "L9Z0A1"
        ],
        [
         "65",
         "Daniel",
         "Bryant",
         "6464 Redwood Dr",
         "Elmvale",
         "ON",
         "L0L0A1"
        ],
        [
         "66",
         "Sophia",
         "Alexander",
         "6565 Cypress Ave",
         "Midland",
         "ON",
         "L4R0A1"
        ],
        [
         "67",
         "Matthew",
         "Russell",
         "6666 Willow Rd",
         "Penetanguishene",
         "ON",
         "L9M0A1"
        ],
        [
         "68",
         "Charlotte",
         "Griffin",
         "6767 Poplar St",
         "Victoria Harbour",
         "ON",
         "L0K0A1"
        ],
        [
         "69",
         "Joseph",
         "Diaz",
         "6868 Ash Blvd",
         "Port McNicoll",
         "ON",
         "L0K0A1"
        ],
        [
         "70",
         "Amelia",
         "Hayes",
         "6969 Beech Dr",
         "Waubaushene",
         "ON",
         "L0K0A1"
        ],
        [
         "71",
         "Christopher",
         "Myers",
         "7070 Cedar Ln",
         "Coldwater",
         "ON",
         "L0K0A1"
        ],
        [
         "72",
         "Mia",
         "Ford",
         "7171 Elm St",
         "Orillia",
         "ON",
         "L3V0A1"
        ],
        [
         "73",
         "Andrew",
         "Hamilton",
         "7272 Maple Ave",
         "Gravenhurst",
         "ON",
         "P1P0A1"
        ],
        [
         "74",
         "Harper",
         "Graham",
         "7373 Oak Dr",
         "Bala",
         "ON",
         "P0C0A1"
        ],
        [
         "75",
         "Joshua",
         "Sullivan",
         "7474 Pine Rd",
         "Bracebridge",
         "ON",
         "P1L0A1"
        ],
        [
         "76",
         "Evelyn",
         "Wallace",
         "7575 Birch Blvd",
         "Huntsville",
         "ON",
         "P1H0A1"
        ],
        [
         "77",
         "Daniel",
         "Woods",
         "7676 Spruce Ln",
         "Burks Falls",
         "ON",
         "P0A0A1"
        ],
        [
         "78",
         "Abigail",
         "Cole",
         "7777 Fir St",
         "Sundridge",
         "ON",
         "P0A0A1"
        ],
        [
         "79",
         "James",
         "West",
         "7878 Redwood Dr",
         "South River",
         "ON",
         "P0A0A1"
        ],
        [
         "80",
         "Emily",
         "Jordan",
         "7979 Cypress Ave",
         "North Bay",
         "ON",
         "P1B0A1"
        ],
        [
         "81",
         "Michael",
         "Owens",
         "8080 Willow Rd",
         "Mattawa",
         "ON",
         "P0H0A1"
        ],
        [
         "82",
         "Elizabeth",
         "Reynolds",
         "8181 Poplar St",
         "Sturgeon Falls",
         "ON",
         "P2B0A1"
        ],
        [
         "83",
         "David",
         "Fisher",
         "8282 Ash Blvd",
         "Verner",
         "ON",
         "P0H0A1"
        ],
        [
         "84",
         "Sophia",
         "Ellis",
         "8383 Beech Dr",
         "Field",
         "ON",
         "P0H0A1"
        ],
        [
         "85",
         "John",
         "Harrison",
         "8484 Cedar Ln",
         "Temagami",
         "ON",
         "P0H0A1"
        ],
        [
         "86",
         "Olivia",
         "Gibson",
         "8585 Elm St",
         "New Liskeard",
         "ON",
         "P0J0A1"
        ],
        [
         "87",
         "William",
         "McDonald",
         "8686 Maple Ave",
         "Haileybury",
         null,
         null
        ]
       ],
       "datasetInfos": [],
       "dbfsResultPath": null,
       "isJsonSchema": true,
       "metadata": {},
       "overflow": false,
       "plotOptions": {
        "customPlotOptions": {},
        "displayType": "table",
        "pivotAggregation": null,
        "pivotColumns": null,
        "xColumns": null,
        "yColumns": null
       },
       "removedWidgets": [],
       "schema": [
        {
         "metadata": "{}",
         "name": "customer_id",
         "type": "\"string\""
        },
        {
         "metadata": "{}",
         "name": "first_name",
         "type": "\"string\""
        },
        {
         "metadata": "{}",
         "name": "last_name",
         "type": "\"string\""
        },
        {
         "metadata": "{}",
         "name": "address",
         "type": "\"string\""
        },
        {
         "metadata": "{}",
         "name": "city",
         "type": "\"string\""
        },
        {
         "metadata": "{}",
         "name": "state",
         "type": "\"string\""
        },
        {
         "metadata": "{}",
         "name": "zip",
         "type": "\"string\""
        }
       ],
       "type": "table"
      }
     },
     "output_type": "display_data"
    }
   ],
   "source": [
    "from pyspark.sql.functions import col, when, lit\n",
    "df_filtered = df_customers.filter((col(\"customer_id\").isNotNull()))\n",
    "display(df_filtered)"
   ]
  },
  {
   "cell_type": "code",
   "execution_count": 0,
   "metadata": {
    "application/vnd.databricks.v1+cell": {
     "cellMetadata": {
      "byteLimit": 2048000,
      "rowLimit": 10000
     },
     "inputWidgets": {},
     "nuid": "51c52204-69b0-492d-96ac-50c459861b89",
     "showTitle": false,
     "tableResultSettingsMap": {},
     "title": ""
    }
   },
   "outputs": [
    {
     "output_type": "display_data",
     "data": {
      "text/html": [
       "<style scoped>\n",
       "  .table-result-container {\n",
       "    max-height: 300px;\n",
       "    overflow: auto;\n",
       "  }\n",
       "  table, th, td {\n",
       "    border: 1px solid black;\n",
       "    border-collapse: collapse;\n",
       "  }\n",
       "  th, td {\n",
       "    padding: 5px;\n",
       "  }\n",
       "  th {\n",
       "    text-align: left;\n",
       "  }\n",
       "</style><div class='table-result-container'><table class='table-result'><thead style='background-color: white'><tr><th>customer_id</th><th>first_name</th><th>last_name</th><th>address</th><th>city</th><th>state</th><th>zip</th></tr></thead><tbody><tr><td>1</td><td>John</td><td>Doe</td><td>123 Elm St</td><td>Toronto</td><td>ON</td><td>M4B1B3</td></tr><tr><td>2</td><td>Jane</td><td>Smith</td><td>456 Maple Ave</td><td>Ottawa</td><td>ON</td><td>K1A0B1</td></tr><tr><td>3</td><td>Michael</td><td>Johnson</td><td>789 Oak Dr</td><td>Montreal</td><td>QC</td><td>H1A1A1</td></tr><tr><td>4</td><td>Emily</td><td>Davis</td><td>101 Pine Rd</td><td>Calgary</td><td>AB</td><td>T2A0A1</td></tr><tr><td>5</td><td>David</td><td>Wilson</td><td>202 Birch Blvd</td><td>Vancouver</td><td>BC</td><td>V5K0A1</td></tr><tr><td>6</td><td>Emma</td><td>Clark</td><td>505 Cedar St</td><td>Halifax</td><td>NS</td><td>B3H0A1</td></tr><tr><td>7</td><td>James</td><td>Martinez</td><td>606 Spruce Ln</td><td>Winnipeg</td><td>MB</td><td>R3C0A1</td></tr><tr><td>8</td><td>Olivia</td><td>Garcia</td><td>707 Fir St</td><td>Edmonton</td><td>AB</td><td>T5A0A1</td></tr><tr><td>9</td><td>William</td><td>Lopez</td><td>808 Redwood Dr</td><td>Victoria</td><td>BC</td><td>V8W0A1</td></tr><tr><td>10</td><td>Ava</td><td>Anderson</td><td>909 Cypress Ave</td><td>Quebec City</td><td>QC</td><td>G1A0A1</td></tr><tr><td>11</td><td>Alexander</td><td>Thomas</td><td>1010 Willow Rd</td><td>St. John's</td><td>NL</td><td>A1A0A1</td></tr><tr><td>12</td><td>Isabella</td><td>Lee</td><td>1111 Poplar St</td><td>Fredericton</td><td>NB</td><td>E3B0A1</td></tr><tr><td>13</td><td>Daniel</td><td>Harris</td><td>1212 Ash Blvd</td><td>Charlottetown</td><td>PE</td><td>C1A0A1</td></tr><tr><td>14</td><td>Sophia</td><td>Young</td><td>1313 Beech Dr</td><td>Yellowknife</td><td>NT</td><td>X1A0A1</td></tr><tr><td>15</td><td>Matthew</td><td>King</td><td>1414 Cedar Ln</td><td>Whitehorse</td><td>YT</td><td>Y1A0A1</td></tr><tr><td>16</td><td>Charlotte</td><td>Scott</td><td>1515 Elm St</td><td>Iqaluit</td><td>NU</td><td>X0A0A1</td></tr><tr><td>17</td><td>Joseph</td><td>Green</td><td>1616 Maple Ave</td><td>Regina</td><td>SK</td><td>S4P0A1</td></tr><tr><td>18</td><td>Amelia</td><td>Adams</td><td>1717 Oak Dr</td><td>Saskatoon</td><td>SK</td><td>S7K0A1</td></tr><tr><td>19</td><td>Christopher</td><td>Baker</td><td>1818 Pine Rd</td><td>Thunder Bay</td><td>ON</td><td>P7A0A1</td></tr><tr><td>20</td><td>Mia</td><td>Nelson</td><td>1919 Birch Blvd</td><td>London</td><td>ON</td><td>N6A0A1</td></tr><tr><td>21</td><td>Andrew</td><td>Mitchell</td><td>2020 Spruce Ln</td><td>Hamilton</td><td>ON</td><td>L8P0A1</td></tr><tr><td>22</td><td>Harper</td><td>Roberts</td><td>2121 Fir St</td><td>Kitchener</td><td>ON</td><td>N2G0A1</td></tr><tr><td>23</td><td>Joshua</td><td>Turner</td><td>2222 Redwood Dr</td><td>Windsor</td><td>ON</td><td>N9A0A1</td></tr><tr><td>24</td><td>Evelyn</td><td>Phillips</td><td>2323 Cypress Ave</td><td>Kingston</td><td>ON</td><td>K7L0A1</td></tr><tr><td>25</td><td>Daniel</td><td>Campbell</td><td>2424 Willow Rd</td><td>St. Catharines</td><td>ON</td><td>L2R0A1</td></tr><tr><td>26</td><td>Abigail</td><td>Parker</td><td>2525 Poplar St</td><td>Barrie</td><td>ON</td><td>L4M0A1</td></tr><tr><td>27</td><td>James</td><td>Evans</td><td>2626 Ash Blvd</td><td>Guelph</td><td>ON</td><td>N1H0A1</td></tr><tr><td>28</td><td>Emily</td><td>Edwards</td><td>2727 Beech Dr</td><td>Brantford</td><td>ON</td><td>N3T0A1</td></tr><tr><td>29</td><td>Michael</td><td>Collins</td><td>2828 Cedar Ln</td><td>Thunder Bay</td><td>ON</td><td>P7B0A1</td></tr><tr><td>30</td><td>Elizabeth</td><td>Stewart</td><td>2929 Elm St</td><td>Peterborough</td><td>ON</td><td>K9H0A1</td></tr><tr><td>31</td><td>David</td><td>Sanchez</td><td>3030 Maple Ave</td><td>North Bay</td><td>ON</td><td>P1B0A1</td></tr><tr><td>32</td><td>Sophia</td><td>Morris</td><td>3131 Oak Dr</td><td>Belleville</td><td>ON</td><td>K8N0A1</td></tr><tr><td>33</td><td>John</td><td>Rogers</td><td>3232 Pine Rd</td><td>Timmins</td><td>ON</td><td>P4N0A1</td></tr><tr><td>34</td><td>Olivia</td><td>Reed</td><td>3333 Birch Blvd</td><td>Orillia</td><td>ON</td><td>L3V0A1</td></tr><tr><td>35</td><td>William</td><td>Cook</td><td>3434 Spruce Ln</td><td>Midland</td><td>ON</td><td>L4R0A1</td></tr><tr><td>36</td><td>Ava</td><td>Morgan</td><td>3535 Fir St</td><td>Collingwood</td><td>ON</td><td>L9Y0A1</td></tr><tr><td>37</td><td>Alexander</td><td>Bell</td><td>3636 Redwood Dr</td><td>Stratford</td><td>ON</td><td>N5A0A1</td></tr><tr><td>38</td><td>Isabella</td><td>Murphy</td><td>3737 Cypress Ave</td><td>Woodstock</td><td>ON</td><td>N4S0A1</td></tr><tr><td>39</td><td>Daniel</td><td>Bailey</td><td>3838 Willow Rd</td><td>Orangeville</td><td>ON</td><td>L9W0A1</td></tr><tr><td>40</td><td>Sophia</td><td>Rivera</td><td>3939 Poplar St</td><td>Milton</td><td>ON</td><td>L9T0A1</td></tr><tr><td>41</td><td>Matthew</td><td>Cooper</td><td>4040 Ash Blvd</td><td>Georgetown</td><td>ON</td><td>L7G0A1</td></tr><tr><td>42</td><td>Charlotte</td><td>Richardson</td><td>4141 Beech Dr</td><td>Newmarket</td><td>ON</td><td>L3Y0A1</td></tr><tr><td>43</td><td>Joseph</td><td>Cox</td><td>4242 Cedar Ln</td><td>Aurora</td><td>ON</td><td>L4G0A1</td></tr><tr><td>44</td><td>Amelia</td><td>Howard</td><td>4343 Elm St</td><td>Bradford</td><td>ON</td><td>L3Z0A1</td></tr><tr><td>45</td><td>Christopher</td><td>Ward</td><td>4444 Maple Ave</td><td>Keswick</td><td>ON</td><td>L4P0A1</td></tr><tr><td>46</td><td>Mia</td><td>Brooks</td><td>4545 Oak Dr</td><td>Stouffville</td><td>ON</td><td>L4A0A1</td></tr><tr><td>47</td><td>Andrew</td><td>Gray</td><td>4646 Pine Rd</td><td>Uxbridge</td><td>ON</td><td>L9P0A1</td></tr><tr><td>48</td><td>Harper</td><td>James</td><td>4747 Birch Blvd</td><td>Port Perry</td><td>ON</td><td>L9L0A1</td></tr><tr><td>49</td><td>Joshua</td><td>Bennett</td><td>4848 Spruce Ln</td><td>Beaverton</td><td>ON</td><td>L0K0A1</td></tr><tr><td>50</td><td>Evelyn</td><td>Barnes</td><td>4949 Fir St</td><td>Sutton</td><td>ON</td><td>L0E0A1</td></tr><tr><td>51</td><td>Daniel</td><td>Ross</td><td>5050 Redwood Dr</td><td>Pefferlaw</td><td>ON</td><td>L0E0A1</td></tr><tr><td>52</td><td>Abigail</td><td>Henderson</td><td>5151 Cypress Ave</td><td>Mount Albert</td><td>ON</td><td>L0G0A1</td></tr><tr><td>53</td><td>James</td><td>Jenkins</td><td>5252 Willow Rd</td><td>Queensville</td><td>ON</td><td>L0G0A1</td></tr><tr><td>54</td><td>Emily</td><td>Perry</td><td>5353 Poplar St</td><td>Sharon</td><td>ON</td><td>L0G0A1</td></tr><tr><td>55</td><td>Michael</td><td>Butler</td><td>5454 Ash Blvd</td><td>Holland Landing</td><td>ON</td><td>L9N0A1</td></tr><tr><td>56</td><td>Elizabeth</td><td>Long</td><td>5555 Beech Dr</td><td>East Gwillimbury</td><td>ON</td><td>L9N0A1</td></tr><tr><td>57</td><td>David</td><td>Patterson</td><td>5656 Cedar Ln</td><td>King City</td><td>ON</td><td>L7B0A1</td></tr><tr><td>58</td><td>Sophia</td><td>Hughes</td><td>5757 Elm St</td><td>Nobleton</td><td>ON</td><td>L0G0A1</td></tr><tr><td>59</td><td>John</td><td>Flores</td><td>5858 Maple Ave</td><td>Schomberg</td><td>ON</td><td>L0G0A1</td></tr><tr><td>60</td><td>Olivia</td><td>Washington</td><td>5959 Oak Dr</td><td>Tottenham</td><td>ON</td><td>L0G0A1</td></tr><tr><td>61</td><td>William</td><td>Butler</td><td>6060 Pine Rd</td><td>Alliston</td><td>ON</td><td>L9R0A1</td></tr><tr><td>62</td><td>Ava</td><td>Simmons</td><td>6161 Birch Blvd</td><td>Angus</td><td>ON</td><td>L0M0A1</td></tr><tr><td>63</td><td>Alexander</td><td>Foster</td><td>6262 Spruce Ln</td><td>Stayner</td><td>ON</td><td>L0M0A1</td></tr><tr><td>64</td><td>Isabella</td><td>Gonzalez</td><td>6363 Fir St</td><td>Wasaga Beach</td><td>ON</td><td>L9Z0A1</td></tr><tr><td>65</td><td>Daniel</td><td>Bryant</td><td>6464 Redwood Dr</td><td>Elmvale</td><td>ON</td><td>L0L0A1</td></tr><tr><td>66</td><td>Sophia</td><td>Alexander</td><td>6565 Cypress Ave</td><td>Midland</td><td>ON</td><td>L4R0A1</td></tr><tr><td>67</td><td>Matthew</td><td>Russell</td><td>6666 Willow Rd</td><td>Penetanguishene</td><td>ON</td><td>L9M0A1</td></tr><tr><td>68</td><td>Charlotte</td><td>Griffin</td><td>6767 Poplar St</td><td>Victoria Harbour</td><td>ON</td><td>L0K0A1</td></tr><tr><td>69</td><td>Joseph</td><td>Diaz</td><td>6868 Ash Blvd</td><td>Port McNicoll</td><td>ON</td><td>L0K0A1</td></tr><tr><td>70</td><td>Amelia</td><td>Hayes</td><td>6969 Beech Dr</td><td>Waubaushene</td><td>ON</td><td>L0K0A1</td></tr><tr><td>71</td><td>Christopher</td><td>Myers</td><td>7070 Cedar Ln</td><td>Coldwater</td><td>ON</td><td>L0K0A1</td></tr><tr><td>72</td><td>Mia</td><td>Ford</td><td>7171 Elm St</td><td>Orillia</td><td>ON</td><td>L3V0A1</td></tr><tr><td>73</td><td>Andrew</td><td>Hamilton</td><td>7272 Maple Ave</td><td>Gravenhurst</td><td>ON</td><td>P1P0A1</td></tr><tr><td>74</td><td>Harper</td><td>Graham</td><td>7373 Oak Dr</td><td>Bala</td><td>ON</td><td>P0C0A1</td></tr><tr><td>75</td><td>Joshua</td><td>Sullivan</td><td>7474 Pine Rd</td><td>Bracebridge</td><td>ON</td><td>P1L0A1</td></tr><tr><td>76</td><td>Evelyn</td><td>Wallace</td><td>7575 Birch Blvd</td><td>Huntsville</td><td>ON</td><td>P1H0A1</td></tr><tr><td>77</td><td>Daniel</td><td>Woods</td><td>7676 Spruce Ln</td><td>Burks Falls</td><td>ON</td><td>P0A0A1</td></tr><tr><td>78</td><td>Abigail</td><td>Cole</td><td>7777 Fir St</td><td>Sundridge</td><td>ON</td><td>P0A0A1</td></tr><tr><td>79</td><td>James</td><td>West</td><td>7878 Redwood Dr</td><td>South River</td><td>ON</td><td>P0A0A1</td></tr><tr><td>80</td><td>Emily</td><td>Jordan</td><td>7979 Cypress Ave</td><td>North Bay</td><td>ON</td><td>P1B0A1</td></tr><tr><td>81</td><td>Michael</td><td>Owens</td><td>8080 Willow Rd</td><td>Mattawa</td><td>ON</td><td>P0H0A1</td></tr><tr><td>82</td><td>Elizabeth</td><td>Reynolds</td><td>8181 Poplar St</td><td>Sturgeon Falls</td><td>ON</td><td>P2B0A1</td></tr><tr><td>83</td><td>David</td><td>Fisher</td><td>8282 Ash Blvd</td><td>Verner</td><td>ON</td><td>P0H0A1</td></tr><tr><td>84</td><td>Sophia</td><td>Ellis</td><td>8383 Beech Dr</td><td>Field</td><td>ON</td><td>P0H0A1</td></tr><tr><td>85</td><td>John</td><td>Harrison</td><td>8484 Cedar Ln</td><td>Temagami</td><td>ON</td><td>P0H0A1</td></tr><tr><td>86</td><td>Olivia</td><td>Gibson</td><td>8585 Elm St</td><td>New Liskeard</td><td>ON</td><td>P0J0A1</td></tr></tbody></table></div>"
      ]
     },
     "metadata": {
      "application/vnd.databricks.v1+output": {
       "addedWidgets": {},
       "aggData": [],
       "aggError": "",
       "aggOverflow": false,
       "aggSchema": [],
       "aggSeriesLimitReached": false,
       "aggType": "",
       "arguments": {},
       "columnCustomDisplayInfos": {},
       "data": [
        [
         "1",
         "John",
         "Doe",
         "123 Elm St",
         "Toronto",
         "ON",
         "M4B1B3"
        ],
        [
         "2",
         "Jane",
         "Smith",
         "456 Maple Ave",
         "Ottawa",
         "ON",
         "K1A0B1"
        ],
        [
         "3",
         "Michael",
         "Johnson",
         "789 Oak Dr",
         "Montreal",
         "QC",
         "H1A1A1"
        ],
        [
         "4",
         "Emily",
         "Davis",
         "101 Pine Rd",
         "Calgary",
         "AB",
         "T2A0A1"
        ],
        [
         "5",
         "David",
         "Wilson",
         "202 Birch Blvd",
         "Vancouver",
         "BC",
         "V5K0A1"
        ],
        [
         "6",
         "Emma",
         "Clark",
         "505 Cedar St",
         "Halifax",
         "NS",
         "B3H0A1"
        ],
        [
         "7",
         "James",
         "Martinez",
         "606 Spruce Ln",
         "Winnipeg",
         "MB",
         "R3C0A1"
        ],
        [
         "8",
         "Olivia",
         "Garcia",
         "707 Fir St",
         "Edmonton",
         "AB",
         "T5A0A1"
        ],
        [
         "9",
         "William",
         "Lopez",
         "808 Redwood Dr",
         "Victoria",
         "BC",
         "V8W0A1"
        ],
        [
         "10",
         "Ava",
         "Anderson",
         "909 Cypress Ave",
         "Quebec City",
         "QC",
         "G1A0A1"
        ],
        [
         "11",
         "Alexander",
         "Thomas",
         "1010 Willow Rd",
         "St. John's",
         "NL",
         "A1A0A1"
        ],
        [
         "12",
         "Isabella",
         "Lee",
         "1111 Poplar St",
         "Fredericton",
         "NB",
         "E3B0A1"
        ],
        [
         "13",
         "Daniel",
         "Harris",
         "1212 Ash Blvd",
         "Charlottetown",
         "PE",
         "C1A0A1"
        ],
        [
         "14",
         "Sophia",
         "Young",
         "1313 Beech Dr",
         "Yellowknife",
         "NT",
         "X1A0A1"
        ],
        [
         "15",
         "Matthew",
         "King",
         "1414 Cedar Ln",
         "Whitehorse",
         "YT",
         "Y1A0A1"
        ],
        [
         "16",
         "Charlotte",
         "Scott",
         "1515 Elm St",
         "Iqaluit",
         "NU",
         "X0A0A1"
        ],
        [
         "17",
         "Joseph",
         "Green",
         "1616 Maple Ave",
         "Regina",
         "SK",
         "S4P0A1"
        ],
        [
         "18",
         "Amelia",
         "Adams",
         "1717 Oak Dr",
         "Saskatoon",
         "SK",
         "S7K0A1"
        ],
        [
         "19",
         "Christopher",
         "Baker",
         "1818 Pine Rd",
         "Thunder Bay",
         "ON",
         "P7A0A1"
        ],
        [
         "20",
         "Mia",
         "Nelson",
         "1919 Birch Blvd",
         "London",
         "ON",
         "N6A0A1"
        ],
        [
         "21",
         "Andrew",
         "Mitchell",
         "2020 Spruce Ln",
         "Hamilton",
         "ON",
         "L8P0A1"
        ],
        [
         "22",
         "Harper",
         "Roberts",
         "2121 Fir St",
         "Kitchener",
         "ON",
         "N2G0A1"
        ],
        [
         "23",
         "Joshua",
         "Turner",
         "2222 Redwood Dr",
         "Windsor",
         "ON",
         "N9A0A1"
        ],
        [
         "24",
         "Evelyn",
         "Phillips",
         "2323 Cypress Ave",
         "Kingston",
         "ON",
         "K7L0A1"
        ],
        [
         "25",
         "Daniel",
         "Campbell",
         "2424 Willow Rd",
         "St. Catharines",
         "ON",
         "L2R0A1"
        ],
        [
         "26",
         "Abigail",
         "Parker",
         "2525 Poplar St",
         "Barrie",
         "ON",
         "L4M0A1"
        ],
        [
         "27",
         "James",
         "Evans",
         "2626 Ash Blvd",
         "Guelph",
         "ON",
         "N1H0A1"
        ],
        [
         "28",
         "Emily",
         "Edwards",
         "2727 Beech Dr",
         "Brantford",
         "ON",
         "N3T0A1"
        ],
        [
         "29",
         "Michael",
         "Collins",
         "2828 Cedar Ln",
         "Thunder Bay",
         "ON",
         "P7B0A1"
        ],
        [
         "30",
         "Elizabeth",
         "Stewart",
         "2929 Elm St",
         "Peterborough",
         "ON",
         "K9H0A1"
        ],
        [
         "31",
         "David",
         "Sanchez",
         "3030 Maple Ave",
         "North Bay",
         "ON",
         "P1B0A1"
        ],
        [
         "32",
         "Sophia",
         "Morris",
         "3131 Oak Dr",
         "Belleville",
         "ON",
         "K8N0A1"
        ],
        [
         "33",
         "John",
         "Rogers",
         "3232 Pine Rd",
         "Timmins",
         "ON",
         "P4N0A1"
        ],
        [
         "34",
         "Olivia",
         "Reed",
         "3333 Birch Blvd",
         "Orillia",
         "ON",
         "L3V0A1"
        ],
        [
         "35",
         "William",
         "Cook",
         "3434 Spruce Ln",
         "Midland",
         "ON",
         "L4R0A1"
        ],
        [
         "36",
         "Ava",
         "Morgan",
         "3535 Fir St",
         "Collingwood",
         "ON",
         "L9Y0A1"
        ],
        [
         "37",
         "Alexander",
         "Bell",
         "3636 Redwood Dr",
         "Stratford",
         "ON",
         "N5A0A1"
        ],
        [
         "38",
         "Isabella",
         "Murphy",
         "3737 Cypress Ave",
         "Woodstock",
         "ON",
         "N4S0A1"
        ],
        [
         "39",
         "Daniel",
         "Bailey",
         "3838 Willow Rd",
         "Orangeville",
         "ON",
         "L9W0A1"
        ],
        [
         "40",
         "Sophia",
         "Rivera",
         "3939 Poplar St",
         "Milton",
         "ON",
         "L9T0A1"
        ],
        [
         "41",
         "Matthew",
         "Cooper",
         "4040 Ash Blvd",
         "Georgetown",
         "ON",
         "L7G0A1"
        ],
        [
         "42",
         "Charlotte",
         "Richardson",
         "4141 Beech Dr",
         "Newmarket",
         "ON",
         "L3Y0A1"
        ],
        [
         "43",
         "Joseph",
         "Cox",
         "4242 Cedar Ln",
         "Aurora",
         "ON",
         "L4G0A1"
        ],
        [
         "44",
         "Amelia",
         "Howard",
         "4343 Elm St",
         "Bradford",
         "ON",
         "L3Z0A1"
        ],
        [
         "45",
         "Christopher",
         "Ward",
         "4444 Maple Ave",
         "Keswick",
         "ON",
         "L4P0A1"
        ],
        [
         "46",
         "Mia",
         "Brooks",
         "4545 Oak Dr",
         "Stouffville",
         "ON",
         "L4A0A1"
        ],
        [
         "47",
         "Andrew",
         "Gray",
         "4646 Pine Rd",
         "Uxbridge",
         "ON",
         "L9P0A1"
        ],
        [
         "48",
         "Harper",
         "James",
         "4747 Birch Blvd",
         "Port Perry",
         "ON",
         "L9L0A1"
        ],
        [
         "49",
         "Joshua",
         "Bennett",
         "4848 Spruce Ln",
         "Beaverton",
         "ON",
         "L0K0A1"
        ],
        [
         "50",
         "Evelyn",
         "Barnes",
         "4949 Fir St",
         "Sutton",
         "ON",
         "L0E0A1"
        ],
        [
         "51",
         "Daniel",
         "Ross",
         "5050 Redwood Dr",
         "Pefferlaw",
         "ON",
         "L0E0A1"
        ],
        [
         "52",
         "Abigail",
         "Henderson",
         "5151 Cypress Ave",
         "Mount Albert",
         "ON",
         "L0G0A1"
        ],
        [
         "53",
         "James",
         "Jenkins",
         "5252 Willow Rd",
         "Queensville",
         "ON",
         "L0G0A1"
        ],
        [
         "54",
         "Emily",
         "Perry",
         "5353 Poplar St",
         "Sharon",
         "ON",
         "L0G0A1"
        ],
        [
         "55",
         "Michael",
         "Butler",
         "5454 Ash Blvd",
         "Holland Landing",
         "ON",
         "L9N0A1"
        ],
        [
         "56",
         "Elizabeth",
         "Long",
         "5555 Beech Dr",
         "East Gwillimbury",
         "ON",
         "L9N0A1"
        ],
        [
         "57",
         "David",
         "Patterson",
         "5656 Cedar Ln",
         "King City",
         "ON",
         "L7B0A1"
        ],
        [
         "58",
         "Sophia",
         "Hughes",
         "5757 Elm St",
         "Nobleton",
         "ON",
         "L0G0A1"
        ],
        [
         "59",
         "John",
         "Flores",
         "5858 Maple Ave",
         "Schomberg",
         "ON",
         "L0G0A1"
        ],
        [
         "60",
         "Olivia",
         "Washington",
         "5959 Oak Dr",
         "Tottenham",
         "ON",
         "L0G0A1"
        ],
        [
         "61",
         "William",
         "Butler",
         "6060 Pine Rd",
         "Alliston",
         "ON",
         "L9R0A1"
        ],
        [
         "62",
         "Ava",
         "Simmons",
         "6161 Birch Blvd",
         "Angus",
         "ON",
         "L0M0A1"
        ],
        [
         "63",
         "Alexander",
         "Foster",
         "6262 Spruce Ln",
         "Stayner",
         "ON",
         "L0M0A1"
        ],
        [
         "64",
         "Isabella",
         "Gonzalez",
         "6363 Fir St",
         "Wasaga Beach",
         "ON",
         "L9Z0A1"
        ],
        [
         "65",
         "Daniel",
         "Bryant",
         "6464 Redwood Dr",
         "Elmvale",
         "ON",
         "L0L0A1"
        ],
        [
         "66",
         "Sophia",
         "Alexander",
         "6565 Cypress Ave",
         "Midland",
         "ON",
         "L4R0A1"
        ],
        [
         "67",
         "Matthew",
         "Russell",
         "6666 Willow Rd",
         "Penetanguishene",
         "ON",
         "L9M0A1"
        ],
        [
         "68",
         "Charlotte",
         "Griffin",
         "6767 Poplar St",
         "Victoria Harbour",
         "ON",
         "L0K0A1"
        ],
        [
         "69",
         "Joseph",
         "Diaz",
         "6868 Ash Blvd",
         "Port McNicoll",
         "ON",
         "L0K0A1"
        ],
        [
         "70",
         "Amelia",
         "Hayes",
         "6969 Beech Dr",
         "Waubaushene",
         "ON",
         "L0K0A1"
        ],
        [
         "71",
         "Christopher",
         "Myers",
         "7070 Cedar Ln",
         "Coldwater",
         "ON",
         "L0K0A1"
        ],
        [
         "72",
         "Mia",
         "Ford",
         "7171 Elm St",
         "Orillia",
         "ON",
         "L3V0A1"
        ],
        [
         "73",
         "Andrew",
         "Hamilton",
         "7272 Maple Ave",
         "Gravenhurst",
         "ON",
         "P1P0A1"
        ],
        [
         "74",
         "Harper",
         "Graham",
         "7373 Oak Dr",
         "Bala",
         "ON",
         "P0C0A1"
        ],
        [
         "75",
         "Joshua",
         "Sullivan",
         "7474 Pine Rd",
         "Bracebridge",
         "ON",
         "P1L0A1"
        ],
        [
         "76",
         "Evelyn",
         "Wallace",
         "7575 Birch Blvd",
         "Huntsville",
         "ON",
         "P1H0A1"
        ],
        [
         "77",
         "Daniel",
         "Woods",
         "7676 Spruce Ln",
         "Burks Falls",
         "ON",
         "P0A0A1"
        ],
        [
         "78",
         "Abigail",
         "Cole",
         "7777 Fir St",
         "Sundridge",
         "ON",
         "P0A0A1"
        ],
        [
         "79",
         "James",
         "West",
         "7878 Redwood Dr",
         "South River",
         "ON",
         "P0A0A1"
        ],
        [
         "80",
         "Emily",
         "Jordan",
         "7979 Cypress Ave",
         "North Bay",
         "ON",
         "P1B0A1"
        ],
        [
         "81",
         "Michael",
         "Owens",
         "8080 Willow Rd",
         "Mattawa",
         "ON",
         "P0H0A1"
        ],
        [
         "82",
         "Elizabeth",
         "Reynolds",
         "8181 Poplar St",
         "Sturgeon Falls",
         "ON",
         "P2B0A1"
        ],
        [
         "83",
         "David",
         "Fisher",
         "8282 Ash Blvd",
         "Verner",
         "ON",
         "P0H0A1"
        ],
        [
         "84",
         "Sophia",
         "Ellis",
         "8383 Beech Dr",
         "Field",
         "ON",
         "P0H0A1"
        ],
        [
         "85",
         "John",
         "Harrison",
         "8484 Cedar Ln",
         "Temagami",
         "ON",
         "P0H0A1"
        ],
        [
         "86",
         "Olivia",
         "Gibson",
         "8585 Elm St",
         "New Liskeard",
         "ON",
         "P0J0A1"
        ]
       ],
       "datasetInfos": [],
       "dbfsResultPath": null,
       "isJsonSchema": true,
       "metadata": {},
       "overflow": false,
       "plotOptions": {
        "customPlotOptions": {},
        "displayType": "table",
        "pivotAggregation": null,
        "pivotColumns": null,
        "xColumns": null,
        "yColumns": null
       },
       "removedWidgets": [],
       "schema": [
        {
         "metadata": "{}",
         "name": "customer_id",
         "type": "\"string\""
        },
        {
         "metadata": "{}",
         "name": "first_name",
         "type": "\"string\""
        },
        {
         "metadata": "{}",
         "name": "last_name",
         "type": "\"string\""
        },
        {
         "metadata": "{}",
         "name": "address",
         "type": "\"string\""
        },
        {
         "metadata": "{}",
         "name": "city",
         "type": "\"string\""
        },
        {
         "metadata": "{}",
         "name": "state",
         "type": "\"string\""
        },
        {
         "metadata": "{}",
         "name": "zip",
         "type": "\"string\""
        }
       ],
       "type": "table"
      }
     },
     "output_type": "display_data"
    }
   ],
   "source": [
    "df_cleaned = df_filtered.na.drop()\n",
    "display(df_cleaned)"
   ]
  },
  {
   "cell_type": "code",
   "execution_count": 0,
   "metadata": {
    "application/vnd.databricks.v1+cell": {
     "cellMetadata": {
      "byteLimit": 2048000,
      "rowLimit": 10000
     },
     "inputWidgets": {},
     "nuid": "0862a99f-3bef-485e-8254-b907da730cf4",
     "showTitle": false,
     "tableResultSettingsMap": {},
     "title": ""
    }
   },
   "outputs": [
    {
     "output_type": "display_data",
     "data": {
      "text/html": [
       "<style scoped>\n",
       "  .table-result-container {\n",
       "    max-height: 300px;\n",
       "    overflow: auto;\n",
       "  }\n",
       "  table, th, td {\n",
       "    border: 1px solid black;\n",
       "    border-collapse: collapse;\n",
       "  }\n",
       "  th, td {\n",
       "    padding: 5px;\n",
       "  }\n",
       "  th {\n",
       "    text-align: left;\n",
       "  }\n",
       "</style><div class='table-result-container'><table class='table-result'><thead style='background-color: white'><tr><th>CustomerID</th><th>FirstName</th><th>LastName</th><th>Address</th><th>City</th><th>State</th><th>Zip</th></tr></thead><tbody><tr><td>1</td><td>John</td><td>Doe</td><td>123 Elm St</td><td>Toronto</td><td>ON</td><td>M4B1B3</td></tr><tr><td>2</td><td>Jane</td><td>Smith</td><td>456 Maple Ave</td><td>Ottawa</td><td>ON</td><td>K1A0B1</td></tr><tr><td>3</td><td>Michael</td><td>Johnson</td><td>789 Oak Dr</td><td>Montreal</td><td>QC</td><td>H1A1A1</td></tr><tr><td>4</td><td>Emily</td><td>Davis</td><td>101 Pine Rd</td><td>Calgary</td><td>AB</td><td>T2A0A1</td></tr><tr><td>5</td><td>David</td><td>Wilson</td><td>202 Birch Blvd</td><td>Vancouver</td><td>BC</td><td>V5K0A1</td></tr><tr><td>6</td><td>Emma</td><td>Clark</td><td>505 Cedar St</td><td>Halifax</td><td>NS</td><td>B3H0A1</td></tr><tr><td>7</td><td>James</td><td>Martinez</td><td>606 Spruce Ln</td><td>Winnipeg</td><td>MB</td><td>R3C0A1</td></tr><tr><td>8</td><td>Olivia</td><td>Garcia</td><td>707 Fir St</td><td>Edmonton</td><td>AB</td><td>T5A0A1</td></tr><tr><td>9</td><td>William</td><td>Lopez</td><td>808 Redwood Dr</td><td>Victoria</td><td>BC</td><td>V8W0A1</td></tr><tr><td>10</td><td>Ava</td><td>Anderson</td><td>909 Cypress Ave</td><td>Quebec City</td><td>QC</td><td>G1A0A1</td></tr><tr><td>11</td><td>Alexander</td><td>Thomas</td><td>1010 Willow Rd</td><td>St. John's</td><td>NL</td><td>A1A0A1</td></tr><tr><td>12</td><td>Isabella</td><td>Lee</td><td>1111 Poplar St</td><td>Fredericton</td><td>NB</td><td>E3B0A1</td></tr><tr><td>13</td><td>Daniel</td><td>Harris</td><td>1212 Ash Blvd</td><td>Charlottetown</td><td>PE</td><td>C1A0A1</td></tr><tr><td>14</td><td>Sophia</td><td>Young</td><td>1313 Beech Dr</td><td>Yellowknife</td><td>NT</td><td>X1A0A1</td></tr><tr><td>15</td><td>Matthew</td><td>King</td><td>1414 Cedar Ln</td><td>Whitehorse</td><td>YT</td><td>Y1A0A1</td></tr><tr><td>16</td><td>Charlotte</td><td>Scott</td><td>1515 Elm St</td><td>Iqaluit</td><td>NU</td><td>X0A0A1</td></tr><tr><td>17</td><td>Joseph</td><td>Green</td><td>1616 Maple Ave</td><td>Regina</td><td>SK</td><td>S4P0A1</td></tr><tr><td>18</td><td>Amelia</td><td>Adams</td><td>1717 Oak Dr</td><td>Saskatoon</td><td>SK</td><td>S7K0A1</td></tr><tr><td>19</td><td>Christopher</td><td>Baker</td><td>1818 Pine Rd</td><td>Thunder Bay</td><td>ON</td><td>P7A0A1</td></tr><tr><td>20</td><td>Mia</td><td>Nelson</td><td>1919 Birch Blvd</td><td>London</td><td>ON</td><td>N6A0A1</td></tr><tr><td>21</td><td>Andrew</td><td>Mitchell</td><td>2020 Spruce Ln</td><td>Hamilton</td><td>ON</td><td>L8P0A1</td></tr><tr><td>22</td><td>Harper</td><td>Roberts</td><td>2121 Fir St</td><td>Kitchener</td><td>ON</td><td>N2G0A1</td></tr><tr><td>23</td><td>Joshua</td><td>Turner</td><td>2222 Redwood Dr</td><td>Windsor</td><td>ON</td><td>N9A0A1</td></tr><tr><td>24</td><td>Evelyn</td><td>Phillips</td><td>2323 Cypress Ave</td><td>Kingston</td><td>ON</td><td>K7L0A1</td></tr><tr><td>25</td><td>Daniel</td><td>Campbell</td><td>2424 Willow Rd</td><td>St. Catharines</td><td>ON</td><td>L2R0A1</td></tr><tr><td>26</td><td>Abigail</td><td>Parker</td><td>2525 Poplar St</td><td>Barrie</td><td>ON</td><td>L4M0A1</td></tr><tr><td>27</td><td>James</td><td>Evans</td><td>2626 Ash Blvd</td><td>Guelph</td><td>ON</td><td>N1H0A1</td></tr><tr><td>28</td><td>Emily</td><td>Edwards</td><td>2727 Beech Dr</td><td>Brantford</td><td>ON</td><td>N3T0A1</td></tr><tr><td>29</td><td>Michael</td><td>Collins</td><td>2828 Cedar Ln</td><td>Thunder Bay</td><td>ON</td><td>P7B0A1</td></tr><tr><td>30</td><td>Elizabeth</td><td>Stewart</td><td>2929 Elm St</td><td>Peterborough</td><td>ON</td><td>K9H0A1</td></tr><tr><td>31</td><td>David</td><td>Sanchez</td><td>3030 Maple Ave</td><td>North Bay</td><td>ON</td><td>P1B0A1</td></tr><tr><td>32</td><td>Sophia</td><td>Morris</td><td>3131 Oak Dr</td><td>Belleville</td><td>ON</td><td>K8N0A1</td></tr><tr><td>33</td><td>John</td><td>Rogers</td><td>3232 Pine Rd</td><td>Timmins</td><td>ON</td><td>P4N0A1</td></tr><tr><td>34</td><td>Olivia</td><td>Reed</td><td>3333 Birch Blvd</td><td>Orillia</td><td>ON</td><td>L3V0A1</td></tr><tr><td>35</td><td>William</td><td>Cook</td><td>3434 Spruce Ln</td><td>Midland</td><td>ON</td><td>L4R0A1</td></tr><tr><td>36</td><td>Ava</td><td>Morgan</td><td>3535 Fir St</td><td>Collingwood</td><td>ON</td><td>L9Y0A1</td></tr><tr><td>37</td><td>Alexander</td><td>Bell</td><td>3636 Redwood Dr</td><td>Stratford</td><td>ON</td><td>N5A0A1</td></tr><tr><td>38</td><td>Isabella</td><td>Murphy</td><td>3737 Cypress Ave</td><td>Woodstock</td><td>ON</td><td>N4S0A1</td></tr><tr><td>39</td><td>Daniel</td><td>Bailey</td><td>3838 Willow Rd</td><td>Orangeville</td><td>ON</td><td>L9W0A1</td></tr><tr><td>40</td><td>Sophia</td><td>Rivera</td><td>3939 Poplar St</td><td>Milton</td><td>ON</td><td>L9T0A1</td></tr><tr><td>41</td><td>Matthew</td><td>Cooper</td><td>4040 Ash Blvd</td><td>Georgetown</td><td>ON</td><td>L7G0A1</td></tr><tr><td>42</td><td>Charlotte</td><td>Richardson</td><td>4141 Beech Dr</td><td>Newmarket</td><td>ON</td><td>L3Y0A1</td></tr><tr><td>43</td><td>Joseph</td><td>Cox</td><td>4242 Cedar Ln</td><td>Aurora</td><td>ON</td><td>L4G0A1</td></tr><tr><td>44</td><td>Amelia</td><td>Howard</td><td>4343 Elm St</td><td>Bradford</td><td>ON</td><td>L3Z0A1</td></tr><tr><td>45</td><td>Christopher</td><td>Ward</td><td>4444 Maple Ave</td><td>Keswick</td><td>ON</td><td>L4P0A1</td></tr><tr><td>46</td><td>Mia</td><td>Brooks</td><td>4545 Oak Dr</td><td>Stouffville</td><td>ON</td><td>L4A0A1</td></tr><tr><td>47</td><td>Andrew</td><td>Gray</td><td>4646 Pine Rd</td><td>Uxbridge</td><td>ON</td><td>L9P0A1</td></tr><tr><td>48</td><td>Harper</td><td>James</td><td>4747 Birch Blvd</td><td>Port Perry</td><td>ON</td><td>L9L0A1</td></tr><tr><td>49</td><td>Joshua</td><td>Bennett</td><td>4848 Spruce Ln</td><td>Beaverton</td><td>ON</td><td>L0K0A1</td></tr><tr><td>50</td><td>Evelyn</td><td>Barnes</td><td>4949 Fir St</td><td>Sutton</td><td>ON</td><td>L0E0A1</td></tr><tr><td>51</td><td>Daniel</td><td>Ross</td><td>5050 Redwood Dr</td><td>Pefferlaw</td><td>ON</td><td>L0E0A1</td></tr><tr><td>52</td><td>Abigail</td><td>Henderson</td><td>5151 Cypress Ave</td><td>Mount Albert</td><td>ON</td><td>L0G0A1</td></tr><tr><td>53</td><td>James</td><td>Jenkins</td><td>5252 Willow Rd</td><td>Queensville</td><td>ON</td><td>L0G0A1</td></tr><tr><td>54</td><td>Emily</td><td>Perry</td><td>5353 Poplar St</td><td>Sharon</td><td>ON</td><td>L0G0A1</td></tr><tr><td>55</td><td>Michael</td><td>Butler</td><td>5454 Ash Blvd</td><td>Holland Landing</td><td>ON</td><td>L9N0A1</td></tr><tr><td>56</td><td>Elizabeth</td><td>Long</td><td>5555 Beech Dr</td><td>East Gwillimbury</td><td>ON</td><td>L9N0A1</td></tr><tr><td>57</td><td>David</td><td>Patterson</td><td>5656 Cedar Ln</td><td>King City</td><td>ON</td><td>L7B0A1</td></tr><tr><td>58</td><td>Sophia</td><td>Hughes</td><td>5757 Elm St</td><td>Nobleton</td><td>ON</td><td>L0G0A1</td></tr><tr><td>59</td><td>John</td><td>Flores</td><td>5858 Maple Ave</td><td>Schomberg</td><td>ON</td><td>L0G0A1</td></tr><tr><td>60</td><td>Olivia</td><td>Washington</td><td>5959 Oak Dr</td><td>Tottenham</td><td>ON</td><td>L0G0A1</td></tr><tr><td>61</td><td>William</td><td>Butler</td><td>6060 Pine Rd</td><td>Alliston</td><td>ON</td><td>L9R0A1</td></tr><tr><td>62</td><td>Ava</td><td>Simmons</td><td>6161 Birch Blvd</td><td>Angus</td><td>ON</td><td>L0M0A1</td></tr><tr><td>63</td><td>Alexander</td><td>Foster</td><td>6262 Spruce Ln</td><td>Stayner</td><td>ON</td><td>L0M0A1</td></tr><tr><td>64</td><td>Isabella</td><td>Gonzalez</td><td>6363 Fir St</td><td>Wasaga Beach</td><td>ON</td><td>L9Z0A1</td></tr><tr><td>65</td><td>Daniel</td><td>Bryant</td><td>6464 Redwood Dr</td><td>Elmvale</td><td>ON</td><td>L0L0A1</td></tr><tr><td>66</td><td>Sophia</td><td>Alexander</td><td>6565 Cypress Ave</td><td>Midland</td><td>ON</td><td>L4R0A1</td></tr><tr><td>67</td><td>Matthew</td><td>Russell</td><td>6666 Willow Rd</td><td>Penetanguishene</td><td>ON</td><td>L9M0A1</td></tr><tr><td>68</td><td>Charlotte</td><td>Griffin</td><td>6767 Poplar St</td><td>Victoria Harbour</td><td>ON</td><td>L0K0A1</td></tr><tr><td>69</td><td>Joseph</td><td>Diaz</td><td>6868 Ash Blvd</td><td>Port McNicoll</td><td>ON</td><td>L0K0A1</td></tr><tr><td>70</td><td>Amelia</td><td>Hayes</td><td>6969 Beech Dr</td><td>Waubaushene</td><td>ON</td><td>L0K0A1</td></tr><tr><td>71</td><td>Christopher</td><td>Myers</td><td>7070 Cedar Ln</td><td>Coldwater</td><td>ON</td><td>L0K0A1</td></tr><tr><td>72</td><td>Mia</td><td>Ford</td><td>7171 Elm St</td><td>Orillia</td><td>ON</td><td>L3V0A1</td></tr><tr><td>73</td><td>Andrew</td><td>Hamilton</td><td>7272 Maple Ave</td><td>Gravenhurst</td><td>ON</td><td>P1P0A1</td></tr><tr><td>74</td><td>Harper</td><td>Graham</td><td>7373 Oak Dr</td><td>Bala</td><td>ON</td><td>P0C0A1</td></tr><tr><td>75</td><td>Joshua</td><td>Sullivan</td><td>7474 Pine Rd</td><td>Bracebridge</td><td>ON</td><td>P1L0A1</td></tr><tr><td>76</td><td>Evelyn</td><td>Wallace</td><td>7575 Birch Blvd</td><td>Huntsville</td><td>ON</td><td>P1H0A1</td></tr><tr><td>77</td><td>Daniel</td><td>Woods</td><td>7676 Spruce Ln</td><td>Burks Falls</td><td>ON</td><td>P0A0A1</td></tr><tr><td>78</td><td>Abigail</td><td>Cole</td><td>7777 Fir St</td><td>Sundridge</td><td>ON</td><td>P0A0A1</td></tr><tr><td>79</td><td>James</td><td>West</td><td>7878 Redwood Dr</td><td>South River</td><td>ON</td><td>P0A0A1</td></tr><tr><td>80</td><td>Emily</td><td>Jordan</td><td>7979 Cypress Ave</td><td>North Bay</td><td>ON</td><td>P1B0A1</td></tr><tr><td>81</td><td>Michael</td><td>Owens</td><td>8080 Willow Rd</td><td>Mattawa</td><td>ON</td><td>P0H0A1</td></tr><tr><td>82</td><td>Elizabeth</td><td>Reynolds</td><td>8181 Poplar St</td><td>Sturgeon Falls</td><td>ON</td><td>P2B0A1</td></tr><tr><td>83</td><td>David</td><td>Fisher</td><td>8282 Ash Blvd</td><td>Verner</td><td>ON</td><td>P0H0A1</td></tr><tr><td>84</td><td>Sophia</td><td>Ellis</td><td>8383 Beech Dr</td><td>Field</td><td>ON</td><td>P0H0A1</td></tr><tr><td>85</td><td>John</td><td>Harrison</td><td>8484 Cedar Ln</td><td>Temagami</td><td>ON</td><td>P0H0A1</td></tr><tr><td>86</td><td>Olivia</td><td>Gibson</td><td>8585 Elm St</td><td>New Liskeard</td><td>ON</td><td>P0J0A1</td></tr></tbody></table></div>"
      ]
     },
     "metadata": {
      "application/vnd.databricks.v1+output": {
       "addedWidgets": {},
       "aggData": [],
       "aggError": "",
       "aggOverflow": false,
       "aggSchema": [],
       "aggSeriesLimitReached": false,
       "aggType": "",
       "arguments": {},
       "columnCustomDisplayInfos": {},
       "data": [
        [
         "1",
         "John",
         "Doe",
         "123 Elm St",
         "Toronto",
         "ON",
         "M4B1B3"
        ],
        [
         "2",
         "Jane",
         "Smith",
         "456 Maple Ave",
         "Ottawa",
         "ON",
         "K1A0B1"
        ],
        [
         "3",
         "Michael",
         "Johnson",
         "789 Oak Dr",
         "Montreal",
         "QC",
         "H1A1A1"
        ],
        [
         "4",
         "Emily",
         "Davis",
         "101 Pine Rd",
         "Calgary",
         "AB",
         "T2A0A1"
        ],
        [
         "5",
         "David",
         "Wilson",
         "202 Birch Blvd",
         "Vancouver",
         "BC",
         "V5K0A1"
        ],
        [
         "6",
         "Emma",
         "Clark",
         "505 Cedar St",
         "Halifax",
         "NS",
         "B3H0A1"
        ],
        [
         "7",
         "James",
         "Martinez",
         "606 Spruce Ln",
         "Winnipeg",
         "MB",
         "R3C0A1"
        ],
        [
         "8",
         "Olivia",
         "Garcia",
         "707 Fir St",
         "Edmonton",
         "AB",
         "T5A0A1"
        ],
        [
         "9",
         "William",
         "Lopez",
         "808 Redwood Dr",
         "Victoria",
         "BC",
         "V8W0A1"
        ],
        [
         "10",
         "Ava",
         "Anderson",
         "909 Cypress Ave",
         "Quebec City",
         "QC",
         "G1A0A1"
        ],
        [
         "11",
         "Alexander",
         "Thomas",
         "1010 Willow Rd",
         "St. John's",
         "NL",
         "A1A0A1"
        ],
        [
         "12",
         "Isabella",
         "Lee",
         "1111 Poplar St",
         "Fredericton",
         "NB",
         "E3B0A1"
        ],
        [
         "13",
         "Daniel",
         "Harris",
         "1212 Ash Blvd",
         "Charlottetown",
         "PE",
         "C1A0A1"
        ],
        [
         "14",
         "Sophia",
         "Young",
         "1313 Beech Dr",
         "Yellowknife",
         "NT",
         "X1A0A1"
        ],
        [
         "15",
         "Matthew",
         "King",
         "1414 Cedar Ln",
         "Whitehorse",
         "YT",
         "Y1A0A1"
        ],
        [
         "16",
         "Charlotte",
         "Scott",
         "1515 Elm St",
         "Iqaluit",
         "NU",
         "X0A0A1"
        ],
        [
         "17",
         "Joseph",
         "Green",
         "1616 Maple Ave",
         "Regina",
         "SK",
         "S4P0A1"
        ],
        [
         "18",
         "Amelia",
         "Adams",
         "1717 Oak Dr",
         "Saskatoon",
         "SK",
         "S7K0A1"
        ],
        [
         "19",
         "Christopher",
         "Baker",
         "1818 Pine Rd",
         "Thunder Bay",
         "ON",
         "P7A0A1"
        ],
        [
         "20",
         "Mia",
         "Nelson",
         "1919 Birch Blvd",
         "London",
         "ON",
         "N6A0A1"
        ],
        [
         "21",
         "Andrew",
         "Mitchell",
         "2020 Spruce Ln",
         "Hamilton",
         "ON",
         "L8P0A1"
        ],
        [
         "22",
         "Harper",
         "Roberts",
         "2121 Fir St",
         "Kitchener",
         "ON",
         "N2G0A1"
        ],
        [
         "23",
         "Joshua",
         "Turner",
         "2222 Redwood Dr",
         "Windsor",
         "ON",
         "N9A0A1"
        ],
        [
         "24",
         "Evelyn",
         "Phillips",
         "2323 Cypress Ave",
         "Kingston",
         "ON",
         "K7L0A1"
        ],
        [
         "25",
         "Daniel",
         "Campbell",
         "2424 Willow Rd",
         "St. Catharines",
         "ON",
         "L2R0A1"
        ],
        [
         "26",
         "Abigail",
         "Parker",
         "2525 Poplar St",
         "Barrie",
         "ON",
         "L4M0A1"
        ],
        [
         "27",
         "James",
         "Evans",
         "2626 Ash Blvd",
         "Guelph",
         "ON",
         "N1H0A1"
        ],
        [
         "28",
         "Emily",
         "Edwards",
         "2727 Beech Dr",
         "Brantford",
         "ON",
         "N3T0A1"
        ],
        [
         "29",
         "Michael",
         "Collins",
         "2828 Cedar Ln",
         "Thunder Bay",
         "ON",
         "P7B0A1"
        ],
        [
         "30",
         "Elizabeth",
         "Stewart",
         "2929 Elm St",
         "Peterborough",
         "ON",
         "K9H0A1"
        ],
        [
         "31",
         "David",
         "Sanchez",
         "3030 Maple Ave",
         "North Bay",
         "ON",
         "P1B0A1"
        ],
        [
         "32",
         "Sophia",
         "Morris",
         "3131 Oak Dr",
         "Belleville",
         "ON",
         "K8N0A1"
        ],
        [
         "33",
         "John",
         "Rogers",
         "3232 Pine Rd",
         "Timmins",
         "ON",
         "P4N0A1"
        ],
        [
         "34",
         "Olivia",
         "Reed",
         "3333 Birch Blvd",
         "Orillia",
         "ON",
         "L3V0A1"
        ],
        [
         "35",
         "William",
         "Cook",
         "3434 Spruce Ln",
         "Midland",
         "ON",
         "L4R0A1"
        ],
        [
         "36",
         "Ava",
         "Morgan",
         "3535 Fir St",
         "Collingwood",
         "ON",
         "L9Y0A1"
        ],
        [
         "37",
         "Alexander",
         "Bell",
         "3636 Redwood Dr",
         "Stratford",
         "ON",
         "N5A0A1"
        ],
        [
         "38",
         "Isabella",
         "Murphy",
         "3737 Cypress Ave",
         "Woodstock",
         "ON",
         "N4S0A1"
        ],
        [
         "39",
         "Daniel",
         "Bailey",
         "3838 Willow Rd",
         "Orangeville",
         "ON",
         "L9W0A1"
        ],
        [
         "40",
         "Sophia",
         "Rivera",
         "3939 Poplar St",
         "Milton",
         "ON",
         "L9T0A1"
        ],
        [
         "41",
         "Matthew",
         "Cooper",
         "4040 Ash Blvd",
         "Georgetown",
         "ON",
         "L7G0A1"
        ],
        [
         "42",
         "Charlotte",
         "Richardson",
         "4141 Beech Dr",
         "Newmarket",
         "ON",
         "L3Y0A1"
        ],
        [
         "43",
         "Joseph",
         "Cox",
         "4242 Cedar Ln",
         "Aurora",
         "ON",
         "L4G0A1"
        ],
        [
         "44",
         "Amelia",
         "Howard",
         "4343 Elm St",
         "Bradford",
         "ON",
         "L3Z0A1"
        ],
        [
         "45",
         "Christopher",
         "Ward",
         "4444 Maple Ave",
         "Keswick",
         "ON",
         "L4P0A1"
        ],
        [
         "46",
         "Mia",
         "Brooks",
         "4545 Oak Dr",
         "Stouffville",
         "ON",
         "L4A0A1"
        ],
        [
         "47",
         "Andrew",
         "Gray",
         "4646 Pine Rd",
         "Uxbridge",
         "ON",
         "L9P0A1"
        ],
        [
         "48",
         "Harper",
         "James",
         "4747 Birch Blvd",
         "Port Perry",
         "ON",
         "L9L0A1"
        ],
        [
         "49",
         "Joshua",
         "Bennett",
         "4848 Spruce Ln",
         "Beaverton",
         "ON",
         "L0K0A1"
        ],
        [
         "50",
         "Evelyn",
         "Barnes",
         "4949 Fir St",
         "Sutton",
         "ON",
         "L0E0A1"
        ],
        [
         "51",
         "Daniel",
         "Ross",
         "5050 Redwood Dr",
         "Pefferlaw",
         "ON",
         "L0E0A1"
        ],
        [
         "52",
         "Abigail",
         "Henderson",
         "5151 Cypress Ave",
         "Mount Albert",
         "ON",
         "L0G0A1"
        ],
        [
         "53",
         "James",
         "Jenkins",
         "5252 Willow Rd",
         "Queensville",
         "ON",
         "L0G0A1"
        ],
        [
         "54",
         "Emily",
         "Perry",
         "5353 Poplar St",
         "Sharon",
         "ON",
         "L0G0A1"
        ],
        [
         "55",
         "Michael",
         "Butler",
         "5454 Ash Blvd",
         "Holland Landing",
         "ON",
         "L9N0A1"
        ],
        [
         "56",
         "Elizabeth",
         "Long",
         "5555 Beech Dr",
         "East Gwillimbury",
         "ON",
         "L9N0A1"
        ],
        [
         "57",
         "David",
         "Patterson",
         "5656 Cedar Ln",
         "King City",
         "ON",
         "L7B0A1"
        ],
        [
         "58",
         "Sophia",
         "Hughes",
         "5757 Elm St",
         "Nobleton",
         "ON",
         "L0G0A1"
        ],
        [
         "59",
         "John",
         "Flores",
         "5858 Maple Ave",
         "Schomberg",
         "ON",
         "L0G0A1"
        ],
        [
         "60",
         "Olivia",
         "Washington",
         "5959 Oak Dr",
         "Tottenham",
         "ON",
         "L0G0A1"
        ],
        [
         "61",
         "William",
         "Butler",
         "6060 Pine Rd",
         "Alliston",
         "ON",
         "L9R0A1"
        ],
        [
         "62",
         "Ava",
         "Simmons",
         "6161 Birch Blvd",
         "Angus",
         "ON",
         "L0M0A1"
        ],
        [
         "63",
         "Alexander",
         "Foster",
         "6262 Spruce Ln",
         "Stayner",
         "ON",
         "L0M0A1"
        ],
        [
         "64",
         "Isabella",
         "Gonzalez",
         "6363 Fir St",
         "Wasaga Beach",
         "ON",
         "L9Z0A1"
        ],
        [
         "65",
         "Daniel",
         "Bryant",
         "6464 Redwood Dr",
         "Elmvale",
         "ON",
         "L0L0A1"
        ],
        [
         "66",
         "Sophia",
         "Alexander",
         "6565 Cypress Ave",
         "Midland",
         "ON",
         "L4R0A1"
        ],
        [
         "67",
         "Matthew",
         "Russell",
         "6666 Willow Rd",
         "Penetanguishene",
         "ON",
         "L9M0A1"
        ],
        [
         "68",
         "Charlotte",
         "Griffin",
         "6767 Poplar St",
         "Victoria Harbour",
         "ON",
         "L0K0A1"
        ],
        [
         "69",
         "Joseph",
         "Diaz",
         "6868 Ash Blvd",
         "Port McNicoll",
         "ON",
         "L0K0A1"
        ],
        [
         "70",
         "Amelia",
         "Hayes",
         "6969 Beech Dr",
         "Waubaushene",
         "ON",
         "L0K0A1"
        ],
        [
         "71",
         "Christopher",
         "Myers",
         "7070 Cedar Ln",
         "Coldwater",
         "ON",
         "L0K0A1"
        ],
        [
         "72",
         "Mia",
         "Ford",
         "7171 Elm St",
         "Orillia",
         "ON",
         "L3V0A1"
        ],
        [
         "73",
         "Andrew",
         "Hamilton",
         "7272 Maple Ave",
         "Gravenhurst",
         "ON",
         "P1P0A1"
        ],
        [
         "74",
         "Harper",
         "Graham",
         "7373 Oak Dr",
         "Bala",
         "ON",
         "P0C0A1"
        ],
        [
         "75",
         "Joshua",
         "Sullivan",
         "7474 Pine Rd",
         "Bracebridge",
         "ON",
         "P1L0A1"
        ],
        [
         "76",
         "Evelyn",
         "Wallace",
         "7575 Birch Blvd",
         "Huntsville",
         "ON",
         "P1H0A1"
        ],
        [
         "77",
         "Daniel",
         "Woods",
         "7676 Spruce Ln",
         "Burks Falls",
         "ON",
         "P0A0A1"
        ],
        [
         "78",
         "Abigail",
         "Cole",
         "7777 Fir St",
         "Sundridge",
         "ON",
         "P0A0A1"
        ],
        [
         "79",
         "James",
         "West",
         "7878 Redwood Dr",
         "South River",
         "ON",
         "P0A0A1"
        ],
        [
         "80",
         "Emily",
         "Jordan",
         "7979 Cypress Ave",
         "North Bay",
         "ON",
         "P1B0A1"
        ],
        [
         "81",
         "Michael",
         "Owens",
         "8080 Willow Rd",
         "Mattawa",
         "ON",
         "P0H0A1"
        ],
        [
         "82",
         "Elizabeth",
         "Reynolds",
         "8181 Poplar St",
         "Sturgeon Falls",
         "ON",
         "P2B0A1"
        ],
        [
         "83",
         "David",
         "Fisher",
         "8282 Ash Blvd",
         "Verner",
         "ON",
         "P0H0A1"
        ],
        [
         "84",
         "Sophia",
         "Ellis",
         "8383 Beech Dr",
         "Field",
         "ON",
         "P0H0A1"
        ],
        [
         "85",
         "John",
         "Harrison",
         "8484 Cedar Ln",
         "Temagami",
         "ON",
         "P0H0A1"
        ],
        [
         "86",
         "Olivia",
         "Gibson",
         "8585 Elm St",
         "New Liskeard",
         "ON",
         "P0J0A1"
        ]
       ],
       "datasetInfos": [],
       "dbfsResultPath": null,
       "isJsonSchema": true,
       "metadata": {},
       "overflow": false,
       "plotOptions": {
        "customPlotOptions": {},
        "displayType": "table",
        "pivotAggregation": null,
        "pivotColumns": null,
        "xColumns": null,
        "yColumns": null
       },
       "removedWidgets": [],
       "schema": [
        {
         "metadata": "{}",
         "name": "CustomerID",
         "type": "\"string\""
        },
        {
         "metadata": "{}",
         "name": "FirstName",
         "type": "\"string\""
        },
        {
         "metadata": "{}",
         "name": "LastName",
         "type": "\"string\""
        },
        {
         "metadata": "{}",
         "name": "Address",
         "type": "\"string\""
        },
        {
         "metadata": "{}",
         "name": "City",
         "type": "\"string\""
        },
        {
         "metadata": "{}",
         "name": "State",
         "type": "\"string\""
        },
        {
         "metadata": "{}",
         "name": "Zip",
         "type": "\"string\""
        }
       ],
       "type": "table"
      }
     },
     "output_type": "display_data"
    }
   ],
   "source": [
    "df_renamed = df_cleaned.withColumnRenamed(\"customer_id\", \"CustomerID\").withColumnRenamed(\"first_name\", \"FirstName\").withColumnRenamed(\"last_name\", \"LastName\").withColumnRenamed(\"address\", \"Address\").withColumnRenamed(\"city\", \"City\").withColumnRenamed(\"state\", \"State\").withColumnRenamed(\"zip\", \"Zip\")\n",
    "\n",
    "display(df_renamed)"
   ]
  },
  {
   "cell_type": "code",
   "execution_count": 0,
   "metadata": {
    "application/vnd.databricks.v1+cell": {
     "cellMetadata": {
      "byteLimit": 2048000,
      "rowLimit": 10000
     },
     "inputWidgets": {},
     "nuid": "e4f7610c-bb44-405f-96e3-fe6e878d87d8",
     "showTitle": false,
     "tableResultSettingsMap": {},
     "title": ""
    }
   },
   "outputs": [],
   "source": [
    "df_renamed.write.mode(\"overwrite\").option(\"header\", \"true\").csv(\"/mnt/ctnadls/customers_cleaned.csv\")"
   ]
  },
  {
   "cell_type": "code",
   "execution_count": 0,
   "metadata": {
    "application/vnd.databricks.v1+cell": {
     "cellMetadata": {
      "byteLimit": 2048000,
      "rowLimit": 10000
     },
     "inputWidgets": {},
     "nuid": "152f6ebe-4c1a-4843-846f-98ce9c97fa8f",
     "showTitle": false,
     "tableResultSettingsMap": {},
     "title": ""
    }
   },
   "outputs": [
    {
     "output_type": "display_data",
     "data": {
      "text/html": [
       "<style scoped>\n",
       "  .table-result-container {\n",
       "    max-height: 300px;\n",
       "    overflow: auto;\n",
       "  }\n",
       "  table, th, td {\n",
       "    border: 1px solid black;\n",
       "    border-collapse: collapse;\n",
       "  }\n",
       "  th, td {\n",
       "    padding: 5px;\n",
       "  }\n",
       "  th {\n",
       "    text-align: left;\n",
       "  }\n",
       "</style><div class='table-result-container'><table class='table-result'><thead style='background-color: white'><tr><th>CustomerID</th><th>FirstName</th><th>LastName</th><th>Address</th><th>City</th><th>State</th><th>Zip</th></tr></thead><tbody><tr><td>1</td><td>John</td><td>Doe</td><td>123 Elm St</td><td>Toronto</td><td>ON</td><td>M4B1B3</td></tr><tr><td>2</td><td>Jane</td><td>Smith</td><td>456 Maple Ave</td><td>Ottawa</td><td>ON</td><td>K1A0B1</td></tr><tr><td>3</td><td>Michael</td><td>Johnson</td><td>789 Oak Dr</td><td>Montreal</td><td>QC</td><td>H1A1A1</td></tr><tr><td>4</td><td>Emily</td><td>Davis</td><td>101 Pine Rd</td><td>Calgary</td><td>AB</td><td>T2A0A1</td></tr><tr><td>5</td><td>David</td><td>Wilson</td><td>202 Birch Blvd</td><td>Vancouver</td><td>BC</td><td>V5K0A1</td></tr><tr><td>6</td><td>Emma</td><td>Clark</td><td>505 Cedar St</td><td>Halifax</td><td>NS</td><td>B3H0A1</td></tr><tr><td>7</td><td>James</td><td>Martinez</td><td>606 Spruce Ln</td><td>Winnipeg</td><td>MB</td><td>R3C0A1</td></tr><tr><td>8</td><td>Olivia</td><td>Garcia</td><td>707 Fir St</td><td>Edmonton</td><td>AB</td><td>T5A0A1</td></tr><tr><td>9</td><td>William</td><td>Lopez</td><td>808 Redwood Dr</td><td>Victoria</td><td>BC</td><td>V8W0A1</td></tr><tr><td>10</td><td>Ava</td><td>Anderson</td><td>909 Cypress Ave</td><td>Quebec City</td><td>QC</td><td>G1A0A1</td></tr><tr><td>11</td><td>Alexander</td><td>Thomas</td><td>1010 Willow Rd</td><td>St. John's</td><td>NL</td><td>A1A0A1</td></tr><tr><td>12</td><td>Isabella</td><td>Lee</td><td>1111 Poplar St</td><td>Fredericton</td><td>NB</td><td>E3B0A1</td></tr><tr><td>13</td><td>Daniel</td><td>Harris</td><td>1212 Ash Blvd</td><td>Charlottetown</td><td>PE</td><td>C1A0A1</td></tr><tr><td>14</td><td>Sophia</td><td>Young</td><td>1313 Beech Dr</td><td>Yellowknife</td><td>NT</td><td>X1A0A1</td></tr><tr><td>15</td><td>Matthew</td><td>King</td><td>1414 Cedar Ln</td><td>Whitehorse</td><td>YT</td><td>Y1A0A1</td></tr><tr><td>16</td><td>Charlotte</td><td>Scott</td><td>1515 Elm St</td><td>Iqaluit</td><td>NU</td><td>X0A0A1</td></tr><tr><td>17</td><td>Joseph</td><td>Green</td><td>1616 Maple Ave</td><td>Regina</td><td>SK</td><td>S4P0A1</td></tr><tr><td>18</td><td>Amelia</td><td>Adams</td><td>1717 Oak Dr</td><td>Saskatoon</td><td>SK</td><td>S7K0A1</td></tr><tr><td>19</td><td>Christopher</td><td>Baker</td><td>1818 Pine Rd</td><td>Thunder Bay</td><td>ON</td><td>P7A0A1</td></tr><tr><td>20</td><td>Mia</td><td>Nelson</td><td>1919 Birch Blvd</td><td>London</td><td>ON</td><td>N6A0A1</td></tr><tr><td>21</td><td>Andrew</td><td>Mitchell</td><td>2020 Spruce Ln</td><td>Hamilton</td><td>ON</td><td>L8P0A1</td></tr><tr><td>22</td><td>Harper</td><td>Roberts</td><td>2121 Fir St</td><td>Kitchener</td><td>ON</td><td>N2G0A1</td></tr><tr><td>23</td><td>Joshua</td><td>Turner</td><td>2222 Redwood Dr</td><td>Windsor</td><td>ON</td><td>N9A0A1</td></tr><tr><td>24</td><td>Evelyn</td><td>Phillips</td><td>2323 Cypress Ave</td><td>Kingston</td><td>ON</td><td>K7L0A1</td></tr><tr><td>25</td><td>Daniel</td><td>Campbell</td><td>2424 Willow Rd</td><td>St. Catharines</td><td>ON</td><td>L2R0A1</td></tr><tr><td>26</td><td>Abigail</td><td>Parker</td><td>2525 Poplar St</td><td>Barrie</td><td>ON</td><td>L4M0A1</td></tr><tr><td>27</td><td>James</td><td>Evans</td><td>2626 Ash Blvd</td><td>Guelph</td><td>ON</td><td>N1H0A1</td></tr><tr><td>28</td><td>Emily</td><td>Edwards</td><td>2727 Beech Dr</td><td>Brantford</td><td>ON</td><td>N3T0A1</td></tr><tr><td>29</td><td>Michael</td><td>Collins</td><td>2828 Cedar Ln</td><td>Thunder Bay</td><td>ON</td><td>P7B0A1</td></tr><tr><td>30</td><td>Elizabeth</td><td>Stewart</td><td>2929 Elm St</td><td>Peterborough</td><td>ON</td><td>K9H0A1</td></tr><tr><td>31</td><td>David</td><td>Sanchez</td><td>3030 Maple Ave</td><td>North Bay</td><td>ON</td><td>P1B0A1</td></tr><tr><td>32</td><td>Sophia</td><td>Morris</td><td>3131 Oak Dr</td><td>Belleville</td><td>ON</td><td>K8N0A1</td></tr><tr><td>33</td><td>John</td><td>Rogers</td><td>3232 Pine Rd</td><td>Timmins</td><td>ON</td><td>P4N0A1</td></tr><tr><td>34</td><td>Olivia</td><td>Reed</td><td>3333 Birch Blvd</td><td>Orillia</td><td>ON</td><td>L3V0A1</td></tr><tr><td>35</td><td>William</td><td>Cook</td><td>3434 Spruce Ln</td><td>Midland</td><td>ON</td><td>L4R0A1</td></tr><tr><td>36</td><td>Ava</td><td>Morgan</td><td>3535 Fir St</td><td>Collingwood</td><td>ON</td><td>L9Y0A1</td></tr><tr><td>37</td><td>Alexander</td><td>Bell</td><td>3636 Redwood Dr</td><td>Stratford</td><td>ON</td><td>N5A0A1</td></tr><tr><td>38</td><td>Isabella</td><td>Murphy</td><td>3737 Cypress Ave</td><td>Woodstock</td><td>ON</td><td>N4S0A1</td></tr><tr><td>39</td><td>Daniel</td><td>Bailey</td><td>3838 Willow Rd</td><td>Orangeville</td><td>ON</td><td>L9W0A1</td></tr><tr><td>40</td><td>Sophia</td><td>Rivera</td><td>3939 Poplar St</td><td>Milton</td><td>ON</td><td>L9T0A1</td></tr><tr><td>41</td><td>Matthew</td><td>Cooper</td><td>4040 Ash Blvd</td><td>Georgetown</td><td>ON</td><td>L7G0A1</td></tr><tr><td>42</td><td>Charlotte</td><td>Richardson</td><td>4141 Beech Dr</td><td>Newmarket</td><td>ON</td><td>L3Y0A1</td></tr><tr><td>43</td><td>Joseph</td><td>Cox</td><td>4242 Cedar Ln</td><td>Aurora</td><td>ON</td><td>L4G0A1</td></tr><tr><td>44</td><td>Amelia</td><td>Howard</td><td>4343 Elm St</td><td>Bradford</td><td>ON</td><td>L3Z0A1</td></tr><tr><td>45</td><td>Christopher</td><td>Ward</td><td>4444 Maple Ave</td><td>Keswick</td><td>ON</td><td>L4P0A1</td></tr><tr><td>46</td><td>Mia</td><td>Brooks</td><td>4545 Oak Dr</td><td>Stouffville</td><td>ON</td><td>L4A0A1</td></tr><tr><td>47</td><td>Andrew</td><td>Gray</td><td>4646 Pine Rd</td><td>Uxbridge</td><td>ON</td><td>L9P0A1</td></tr><tr><td>48</td><td>Harper</td><td>James</td><td>4747 Birch Blvd</td><td>Port Perry</td><td>ON</td><td>L9L0A1</td></tr><tr><td>49</td><td>Joshua</td><td>Bennett</td><td>4848 Spruce Ln</td><td>Beaverton</td><td>ON</td><td>L0K0A1</td></tr><tr><td>50</td><td>Evelyn</td><td>Barnes</td><td>4949 Fir St</td><td>Sutton</td><td>ON</td><td>L0E0A1</td></tr><tr><td>51</td><td>Daniel</td><td>Ross</td><td>5050 Redwood Dr</td><td>Pefferlaw</td><td>ON</td><td>L0E0A1</td></tr><tr><td>52</td><td>Abigail</td><td>Henderson</td><td>5151 Cypress Ave</td><td>Mount Albert</td><td>ON</td><td>L0G0A1</td></tr><tr><td>53</td><td>James</td><td>Jenkins</td><td>5252 Willow Rd</td><td>Queensville</td><td>ON</td><td>L0G0A1</td></tr><tr><td>54</td><td>Emily</td><td>Perry</td><td>5353 Poplar St</td><td>Sharon</td><td>ON</td><td>L0G0A1</td></tr><tr><td>55</td><td>Michael</td><td>Butler</td><td>5454 Ash Blvd</td><td>Holland Landing</td><td>ON</td><td>L9N0A1</td></tr><tr><td>56</td><td>Elizabeth</td><td>Long</td><td>5555 Beech Dr</td><td>East Gwillimbury</td><td>ON</td><td>L9N0A1</td></tr><tr><td>57</td><td>David</td><td>Patterson</td><td>5656 Cedar Ln</td><td>King City</td><td>ON</td><td>L7B0A1</td></tr><tr><td>58</td><td>Sophia</td><td>Hughes</td><td>5757 Elm St</td><td>Nobleton</td><td>ON</td><td>L0G0A1</td></tr><tr><td>59</td><td>John</td><td>Flores</td><td>5858 Maple Ave</td><td>Schomberg</td><td>ON</td><td>L0G0A1</td></tr><tr><td>60</td><td>Olivia</td><td>Washington</td><td>5959 Oak Dr</td><td>Tottenham</td><td>ON</td><td>L0G0A1</td></tr><tr><td>61</td><td>William</td><td>Butler</td><td>6060 Pine Rd</td><td>Alliston</td><td>ON</td><td>L9R0A1</td></tr><tr><td>62</td><td>Ava</td><td>Simmons</td><td>6161 Birch Blvd</td><td>Angus</td><td>ON</td><td>L0M0A1</td></tr><tr><td>63</td><td>Alexander</td><td>Foster</td><td>6262 Spruce Ln</td><td>Stayner</td><td>ON</td><td>L0M0A1</td></tr><tr><td>64</td><td>Isabella</td><td>Gonzalez</td><td>6363 Fir St</td><td>Wasaga Beach</td><td>ON</td><td>L9Z0A1</td></tr><tr><td>65</td><td>Daniel</td><td>Bryant</td><td>6464 Redwood Dr</td><td>Elmvale</td><td>ON</td><td>L0L0A1</td></tr><tr><td>66</td><td>Sophia</td><td>Alexander</td><td>6565 Cypress Ave</td><td>Midland</td><td>ON</td><td>L4R0A1</td></tr><tr><td>67</td><td>Matthew</td><td>Russell</td><td>6666 Willow Rd</td><td>Penetanguishene</td><td>ON</td><td>L9M0A1</td></tr><tr><td>68</td><td>Charlotte</td><td>Griffin</td><td>6767 Poplar St</td><td>Victoria Harbour</td><td>ON</td><td>L0K0A1</td></tr><tr><td>69</td><td>Joseph</td><td>Diaz</td><td>6868 Ash Blvd</td><td>Port McNicoll</td><td>ON</td><td>L0K0A1</td></tr><tr><td>70</td><td>Amelia</td><td>Hayes</td><td>6969 Beech Dr</td><td>Waubaushene</td><td>ON</td><td>L0K0A1</td></tr><tr><td>71</td><td>Christopher</td><td>Myers</td><td>7070 Cedar Ln</td><td>Coldwater</td><td>ON</td><td>L0K0A1</td></tr><tr><td>72</td><td>Mia</td><td>Ford</td><td>7171 Elm St</td><td>Orillia</td><td>ON</td><td>L3V0A1</td></tr><tr><td>73</td><td>Andrew</td><td>Hamilton</td><td>7272 Maple Ave</td><td>Gravenhurst</td><td>ON</td><td>P1P0A1</td></tr><tr><td>74</td><td>Harper</td><td>Graham</td><td>7373 Oak Dr</td><td>Bala</td><td>ON</td><td>P0C0A1</td></tr><tr><td>75</td><td>Joshua</td><td>Sullivan</td><td>7474 Pine Rd</td><td>Bracebridge</td><td>ON</td><td>P1L0A1</td></tr><tr><td>76</td><td>Evelyn</td><td>Wallace</td><td>7575 Birch Blvd</td><td>Huntsville</td><td>ON</td><td>P1H0A1</td></tr><tr><td>77</td><td>Daniel</td><td>Woods</td><td>7676 Spruce Ln</td><td>Burks Falls</td><td>ON</td><td>P0A0A1</td></tr><tr><td>78</td><td>Abigail</td><td>Cole</td><td>7777 Fir St</td><td>Sundridge</td><td>ON</td><td>P0A0A1</td></tr><tr><td>79</td><td>James</td><td>West</td><td>7878 Redwood Dr</td><td>South River</td><td>ON</td><td>P0A0A1</td></tr><tr><td>80</td><td>Emily</td><td>Jordan</td><td>7979 Cypress Ave</td><td>North Bay</td><td>ON</td><td>P1B0A1</td></tr><tr><td>81</td><td>Michael</td><td>Owens</td><td>8080 Willow Rd</td><td>Mattawa</td><td>ON</td><td>P0H0A1</td></tr><tr><td>82</td><td>Elizabeth</td><td>Reynolds</td><td>8181 Poplar St</td><td>Sturgeon Falls</td><td>ON</td><td>P2B0A1</td></tr><tr><td>83</td><td>David</td><td>Fisher</td><td>8282 Ash Blvd</td><td>Verner</td><td>ON</td><td>P0H0A1</td></tr><tr><td>84</td><td>Sophia</td><td>Ellis</td><td>8383 Beech Dr</td><td>Field</td><td>ON</td><td>P0H0A1</td></tr><tr><td>85</td><td>John</td><td>Harrison</td><td>8484 Cedar Ln</td><td>Temagami</td><td>ON</td><td>P0H0A1</td></tr><tr><td>86</td><td>Olivia</td><td>Gibson</td><td>8585 Elm St</td><td>New Liskeard</td><td>ON</td><td>P0J0A1</td></tr></tbody></table></div>"
      ]
     },
     "metadata": {
      "application/vnd.databricks.v1+output": {
       "addedWidgets": {},
       "aggData": [],
       "aggError": "",
       "aggOverflow": false,
       "aggSchema": [],
       "aggSeriesLimitReached": false,
       "aggType": "",
       "arguments": {},
       "columnCustomDisplayInfos": {},
       "data": [
        [
         "1",
         "John",
         "Doe",
         "123 Elm St",
         "Toronto",
         "ON",
         "M4B1B3"
        ],
        [
         "2",
         "Jane",
         "Smith",
         "456 Maple Ave",
         "Ottawa",
         "ON",
         "K1A0B1"
        ],
        [
         "3",
         "Michael",
         "Johnson",
         "789 Oak Dr",
         "Montreal",
         "QC",
         "H1A1A1"
        ],
        [
         "4",
         "Emily",
         "Davis",
         "101 Pine Rd",
         "Calgary",
         "AB",
         "T2A0A1"
        ],
        [
         "5",
         "David",
         "Wilson",
         "202 Birch Blvd",
         "Vancouver",
         "BC",
         "V5K0A1"
        ],
        [
         "6",
         "Emma",
         "Clark",
         "505 Cedar St",
         "Halifax",
         "NS",
         "B3H0A1"
        ],
        [
         "7",
         "James",
         "Martinez",
         "606 Spruce Ln",
         "Winnipeg",
         "MB",
         "R3C0A1"
        ],
        [
         "8",
         "Olivia",
         "Garcia",
         "707 Fir St",
         "Edmonton",
         "AB",
         "T5A0A1"
        ],
        [
         "9",
         "William",
         "Lopez",
         "808 Redwood Dr",
         "Victoria",
         "BC",
         "V8W0A1"
        ],
        [
         "10",
         "Ava",
         "Anderson",
         "909 Cypress Ave",
         "Quebec City",
         "QC",
         "G1A0A1"
        ],
        [
         "11",
         "Alexander",
         "Thomas",
         "1010 Willow Rd",
         "St. John's",
         "NL",
         "A1A0A1"
        ],
        [
         "12",
         "Isabella",
         "Lee",
         "1111 Poplar St",
         "Fredericton",
         "NB",
         "E3B0A1"
        ],
        [
         "13",
         "Daniel",
         "Harris",
         "1212 Ash Blvd",
         "Charlottetown",
         "PE",
         "C1A0A1"
        ],
        [
         "14",
         "Sophia",
         "Young",
         "1313 Beech Dr",
         "Yellowknife",
         "NT",
         "X1A0A1"
        ],
        [
         "15",
         "Matthew",
         "King",
         "1414 Cedar Ln",
         "Whitehorse",
         "YT",
         "Y1A0A1"
        ],
        [
         "16",
         "Charlotte",
         "Scott",
         "1515 Elm St",
         "Iqaluit",
         "NU",
         "X0A0A1"
        ],
        [
         "17",
         "Joseph",
         "Green",
         "1616 Maple Ave",
         "Regina",
         "SK",
         "S4P0A1"
        ],
        [
         "18",
         "Amelia",
         "Adams",
         "1717 Oak Dr",
         "Saskatoon",
         "SK",
         "S7K0A1"
        ],
        [
         "19",
         "Christopher",
         "Baker",
         "1818 Pine Rd",
         "Thunder Bay",
         "ON",
         "P7A0A1"
        ],
        [
         "20",
         "Mia",
         "Nelson",
         "1919 Birch Blvd",
         "London",
         "ON",
         "N6A0A1"
        ],
        [
         "21",
         "Andrew",
         "Mitchell",
         "2020 Spruce Ln",
         "Hamilton",
         "ON",
         "L8P0A1"
        ],
        [
         "22",
         "Harper",
         "Roberts",
         "2121 Fir St",
         "Kitchener",
         "ON",
         "N2G0A1"
        ],
        [
         "23",
         "Joshua",
         "Turner",
         "2222 Redwood Dr",
         "Windsor",
         "ON",
         "N9A0A1"
        ],
        [
         "24",
         "Evelyn",
         "Phillips",
         "2323 Cypress Ave",
         "Kingston",
         "ON",
         "K7L0A1"
        ],
        [
         "25",
         "Daniel",
         "Campbell",
         "2424 Willow Rd",
         "St. Catharines",
         "ON",
         "L2R0A1"
        ],
        [
         "26",
         "Abigail",
         "Parker",
         "2525 Poplar St",
         "Barrie",
         "ON",
         "L4M0A1"
        ],
        [
         "27",
         "James",
         "Evans",
         "2626 Ash Blvd",
         "Guelph",
         "ON",
         "N1H0A1"
        ],
        [
         "28",
         "Emily",
         "Edwards",
         "2727 Beech Dr",
         "Brantford",
         "ON",
         "N3T0A1"
        ],
        [
         "29",
         "Michael",
         "Collins",
         "2828 Cedar Ln",
         "Thunder Bay",
         "ON",
         "P7B0A1"
        ],
        [
         "30",
         "Elizabeth",
         "Stewart",
         "2929 Elm St",
         "Peterborough",
         "ON",
         "K9H0A1"
        ],
        [
         "31",
         "David",
         "Sanchez",
         "3030 Maple Ave",
         "North Bay",
         "ON",
         "P1B0A1"
        ],
        [
         "32",
         "Sophia",
         "Morris",
         "3131 Oak Dr",
         "Belleville",
         "ON",
         "K8N0A1"
        ],
        [
         "33",
         "John",
         "Rogers",
         "3232 Pine Rd",
         "Timmins",
         "ON",
         "P4N0A1"
        ],
        [
         "34",
         "Olivia",
         "Reed",
         "3333 Birch Blvd",
         "Orillia",
         "ON",
         "L3V0A1"
        ],
        [
         "35",
         "William",
         "Cook",
         "3434 Spruce Ln",
         "Midland",
         "ON",
         "L4R0A1"
        ],
        [
         "36",
         "Ava",
         "Morgan",
         "3535 Fir St",
         "Collingwood",
         "ON",
         "L9Y0A1"
        ],
        [
         "37",
         "Alexander",
         "Bell",
         "3636 Redwood Dr",
         "Stratford",
         "ON",
         "N5A0A1"
        ],
        [
         "38",
         "Isabella",
         "Murphy",
         "3737 Cypress Ave",
         "Woodstock",
         "ON",
         "N4S0A1"
        ],
        [
         "39",
         "Daniel",
         "Bailey",
         "3838 Willow Rd",
         "Orangeville",
         "ON",
         "L9W0A1"
        ],
        [
         "40",
         "Sophia",
         "Rivera",
         "3939 Poplar St",
         "Milton",
         "ON",
         "L9T0A1"
        ],
        [
         "41",
         "Matthew",
         "Cooper",
         "4040 Ash Blvd",
         "Georgetown",
         "ON",
         "L7G0A1"
        ],
        [
         "42",
         "Charlotte",
         "Richardson",
         "4141 Beech Dr",
         "Newmarket",
         "ON",
         "L3Y0A1"
        ],
        [
         "43",
         "Joseph",
         "Cox",
         "4242 Cedar Ln",
         "Aurora",
         "ON",
         "L4G0A1"
        ],
        [
         "44",
         "Amelia",
         "Howard",
         "4343 Elm St",
         "Bradford",
         "ON",
         "L3Z0A1"
        ],
        [
         "45",
         "Christopher",
         "Ward",
         "4444 Maple Ave",
         "Keswick",
         "ON",
         "L4P0A1"
        ],
        [
         "46",
         "Mia",
         "Brooks",
         "4545 Oak Dr",
         "Stouffville",
         "ON",
         "L4A0A1"
        ],
        [
         "47",
         "Andrew",
         "Gray",
         "4646 Pine Rd",
         "Uxbridge",
         "ON",
         "L9P0A1"
        ],
        [
         "48",
         "Harper",
         "James",
         "4747 Birch Blvd",
         "Port Perry",
         "ON",
         "L9L0A1"
        ],
        [
         "49",
         "Joshua",
         "Bennett",
         "4848 Spruce Ln",
         "Beaverton",
         "ON",
         "L0K0A1"
        ],
        [
         "50",
         "Evelyn",
         "Barnes",
         "4949 Fir St",
         "Sutton",
         "ON",
         "L0E0A1"
        ],
        [
         "51",
         "Daniel",
         "Ross",
         "5050 Redwood Dr",
         "Pefferlaw",
         "ON",
         "L0E0A1"
        ],
        [
         "52",
         "Abigail",
         "Henderson",
         "5151 Cypress Ave",
         "Mount Albert",
         "ON",
         "L0G0A1"
        ],
        [
         "53",
         "James",
         "Jenkins",
         "5252 Willow Rd",
         "Queensville",
         "ON",
         "L0G0A1"
        ],
        [
         "54",
         "Emily",
         "Perry",
         "5353 Poplar St",
         "Sharon",
         "ON",
         "L0G0A1"
        ],
        [
         "55",
         "Michael",
         "Butler",
         "5454 Ash Blvd",
         "Holland Landing",
         "ON",
         "L9N0A1"
        ],
        [
         "56",
         "Elizabeth",
         "Long",
         "5555 Beech Dr",
         "East Gwillimbury",
         "ON",
         "L9N0A1"
        ],
        [
         "57",
         "David",
         "Patterson",
         "5656 Cedar Ln",
         "King City",
         "ON",
         "L7B0A1"
        ],
        [
         "58",
         "Sophia",
         "Hughes",
         "5757 Elm St",
         "Nobleton",
         "ON",
         "L0G0A1"
        ],
        [
         "59",
         "John",
         "Flores",
         "5858 Maple Ave",
         "Schomberg",
         "ON",
         "L0G0A1"
        ],
        [
         "60",
         "Olivia",
         "Washington",
         "5959 Oak Dr",
         "Tottenham",
         "ON",
         "L0G0A1"
        ],
        [
         "61",
         "William",
         "Butler",
         "6060 Pine Rd",
         "Alliston",
         "ON",
         "L9R0A1"
        ],
        [
         "62",
         "Ava",
         "Simmons",
         "6161 Birch Blvd",
         "Angus",
         "ON",
         "L0M0A1"
        ],
        [
         "63",
         "Alexander",
         "Foster",
         "6262 Spruce Ln",
         "Stayner",
         "ON",
         "L0M0A1"
        ],
        [
         "64",
         "Isabella",
         "Gonzalez",
         "6363 Fir St",
         "Wasaga Beach",
         "ON",
         "L9Z0A1"
        ],
        [
         "65",
         "Daniel",
         "Bryant",
         "6464 Redwood Dr",
         "Elmvale",
         "ON",
         "L0L0A1"
        ],
        [
         "66",
         "Sophia",
         "Alexander",
         "6565 Cypress Ave",
         "Midland",
         "ON",
         "L4R0A1"
        ],
        [
         "67",
         "Matthew",
         "Russell",
         "6666 Willow Rd",
         "Penetanguishene",
         "ON",
         "L9M0A1"
        ],
        [
         "68",
         "Charlotte",
         "Griffin",
         "6767 Poplar St",
         "Victoria Harbour",
         "ON",
         "L0K0A1"
        ],
        [
         "69",
         "Joseph",
         "Diaz",
         "6868 Ash Blvd",
         "Port McNicoll",
         "ON",
         "L0K0A1"
        ],
        [
         "70",
         "Amelia",
         "Hayes",
         "6969 Beech Dr",
         "Waubaushene",
         "ON",
         "L0K0A1"
        ],
        [
         "71",
         "Christopher",
         "Myers",
         "7070 Cedar Ln",
         "Coldwater",
         "ON",
         "L0K0A1"
        ],
        [
         "72",
         "Mia",
         "Ford",
         "7171 Elm St",
         "Orillia",
         "ON",
         "L3V0A1"
        ],
        [
         "73",
         "Andrew",
         "Hamilton",
         "7272 Maple Ave",
         "Gravenhurst",
         "ON",
         "P1P0A1"
        ],
        [
         "74",
         "Harper",
         "Graham",
         "7373 Oak Dr",
         "Bala",
         "ON",
         "P0C0A1"
        ],
        [
         "75",
         "Joshua",
         "Sullivan",
         "7474 Pine Rd",
         "Bracebridge",
         "ON",
         "P1L0A1"
        ],
        [
         "76",
         "Evelyn",
         "Wallace",
         "7575 Birch Blvd",
         "Huntsville",
         "ON",
         "P1H0A1"
        ],
        [
         "77",
         "Daniel",
         "Woods",
         "7676 Spruce Ln",
         "Burks Falls",
         "ON",
         "P0A0A1"
        ],
        [
         "78",
         "Abigail",
         "Cole",
         "7777 Fir St",
         "Sundridge",
         "ON",
         "P0A0A1"
        ],
        [
         "79",
         "James",
         "West",
         "7878 Redwood Dr",
         "South River",
         "ON",
         "P0A0A1"
        ],
        [
         "80",
         "Emily",
         "Jordan",
         "7979 Cypress Ave",
         "North Bay",
         "ON",
         "P1B0A1"
        ],
        [
         "81",
         "Michael",
         "Owens",
         "8080 Willow Rd",
         "Mattawa",
         "ON",
         "P0H0A1"
        ],
        [
         "82",
         "Elizabeth",
         "Reynolds",
         "8181 Poplar St",
         "Sturgeon Falls",
         "ON",
         "P2B0A1"
        ],
        [
         "83",
         "David",
         "Fisher",
         "8282 Ash Blvd",
         "Verner",
         "ON",
         "P0H0A1"
        ],
        [
         "84",
         "Sophia",
         "Ellis",
         "8383 Beech Dr",
         "Field",
         "ON",
         "P0H0A1"
        ],
        [
         "85",
         "John",
         "Harrison",
         "8484 Cedar Ln",
         "Temagami",
         "ON",
         "P0H0A1"
        ],
        [
         "86",
         "Olivia",
         "Gibson",
         "8585 Elm St",
         "New Liskeard",
         "ON",
         "P0J0A1"
        ]
       ],
       "datasetInfos": [],
       "dbfsResultPath": null,
       "isJsonSchema": true,
       "metadata": {},
       "overflow": false,
       "plotOptions": {
        "customPlotOptions": {},
        "displayType": "table",
        "pivotAggregation": null,
        "pivotColumns": null,
        "xColumns": null,
        "yColumns": null
       },
       "removedWidgets": [],
       "schema": [
        {
         "metadata": "{}",
         "name": "CustomerID",
         "type": "\"string\""
        },
        {
         "metadata": "{}",
         "name": "FirstName",
         "type": "\"string\""
        },
        {
         "metadata": "{}",
         "name": "LastName",
         "type": "\"string\""
        },
        {
         "metadata": "{}",
         "name": "Address",
         "type": "\"string\""
        },
        {
         "metadata": "{}",
         "name": "City",
         "type": "\"string\""
        },
        {
         "metadata": "{}",
         "name": "State",
         "type": "\"string\""
        },
        {
         "metadata": "{}",
         "name": "Zip",
         "type": "\"string\""
        }
       ],
       "type": "table"
      }
     },
     "output_type": "display_data"
    }
   ],
   "source": [
    "df_customers_cleaned = spark.read.csv(\"/mnt/ctnadls/customers_cleaned.csv\", header=True)\n",
    "display(df_customers_cleaned)"
   ]
  }
 ],
 "metadata": {
  "application/vnd.databricks.v1+notebook": {
   "computePreferences": null,
   "dashboards": [],
   "environmentMetadata": {
    "base_environment": "",
    "environment_version": "2"
   },
   "inputWidgetPreferences": null,
   "language": "python",
   "notebookMetadata": {
    "pythonIndentUnit": 4
   },
   "notebookName": "N2_Read_Transform_Customer_File_And_Load",
   "widgets": {}
  },
  "language_info": {
   "name": "python"
  }
 },
 "nbformat": 4,
 "nbformat_minor": 0
}