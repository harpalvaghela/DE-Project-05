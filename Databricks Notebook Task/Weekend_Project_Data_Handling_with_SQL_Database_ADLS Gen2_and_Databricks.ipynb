{
 "cells": [
  {
   "cell_type": "code",
   "execution_count": 0,
   "metadata": {
    "application/vnd.databricks.v1+cell": {
     "cellMetadata": {
      "byteLimit": 2048000,
      "rowLimit": 10000
     },
     "inputWidgets": {},
     "nuid": "496419d9-67bd-4343-ac82-9ab542697482",
     "showTitle": false,
     "tableResultSettingsMap": {},
     "title": ""
    }
   },
   "outputs": [],
   "source": [
    "\n",
    "def read_sql(table_name):\n",
    "  df = (spark.read\n",
    "  .format(\"jdbc\")\n",
    "  .option(\"url\", dbutils.secrets.get(scope = 'azure_sqldb_scope', key = 'azuresqldb-url'))\n",
    "  .option(\"dbtable\", table_name)\n",
    "  .option(\"user\", dbutils.secrets.get(scope = 'azure_sqldb_scope', key = 'azuresqluser'))\n",
    "  .option(\"password\", dbutils.secrets.get(scope = 'azure_sqldb_scope', key = 'azuresqlpassword'))\n",
    "  .load()\n",
    "  )\n",
    "  return df"
   ]
  },
  {
   "cell_type": "code",
   "execution_count": 0,
   "metadata": {
    "application/vnd.databricks.v1+cell": {
     "cellMetadata": {
      "byteLimit": 2048000,
      "rowLimit": 10000
     },
     "inputWidgets": {},
     "nuid": "ff71fca4-9028-49cb-9dc7-c74e846cc839",
     "showTitle": false,
     "tableResultSettingsMap": {},
     "title": ""
    }
   },
   "outputs": [],
   "source": [
    "\n",
    "def read_sql_query(query):\n",
    "  df = (spark.read\n",
    "  .format(\"jdbc\")\n",
    "  .option(\"url\", dbutils.secrets.get(scope = 'azure_sqldb_scope', key = 'azuresqldb-url'))\n",
    "  .option(\"query\", query)\n",
    "  .option(\"user\", dbutils.secrets.get(scope = 'azure_sqldb_scope', key = 'azuresqluser'))\n",
    "  .option(\"password\", dbutils.secrets.get(scope = 'azure_sqldb_scope', key = 'azuresqlpassword'))\n",
    "  .load()\n",
    "  )\n",
    "  return df"
   ]
  },
  {
   "cell_type": "code",
   "execution_count": 0,
   "metadata": {
    "application/vnd.databricks.v1+cell": {
     "cellMetadata": {
      "byteLimit": 2048000,
      "rowLimit": 10000
     },
     "inputWidgets": {},
     "nuid": "f09d1eab-a03e-4891-9618-59920f01b824",
     "showTitle": false,
     "tableResultSettingsMap": {},
     "title": ""
    }
   },
   "outputs": [],
   "source": [
    "def write_data_sql(table_name, dataframe, mode):\n",
    "    (dataframe.write\n",
    "    .format(\"jdbc\")\n",
    "    .mode(mode)\n",
    "    .option(\"url\", dbutils.secrets.get(scope = 'azure_sqldb_scope', key = 'azuresqldb-url'))\n",
    "    .option(\"dbtable\", table_name)\n",
    "    .option(\"user\", dbutils.secrets.get(scope = 'azure_sqldb_scope', key = 'azuresqluser'))\n",
    "    .option(\"password\", dbutils.secrets.get(scope = 'azure_sqldb_scope', key = 'azuresqlpassword'))\n",
    "    .save()\n",
    "    )"
   ]
  }
 ],
 "metadata": {
  "application/vnd.databricks.v1+notebook": {
   "computePreferences": null,
   "dashboards": [],
   "environmentMetadata": {
    "base_environment": "",
    "environment_version": "2"
   },
   "inputWidgetPreferences": null,
   "language": "python",
   "notebookMetadata": {
    "pythonIndentUnit": 4
   },
   "notebookName": "Weekend_Project_Data_Handling_with_SQL_Database_ADLS Gen2_and_Databricks",
   "widgets": {}
  },
  "language_info": {
   "name": "python"
  }
 },
 "nbformat": 4,
 "nbformat_minor": 0
}